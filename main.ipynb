{
 "cells": [
  {
   "cell_type": "markdown",
   "metadata": {},
   "source": [
    "# Аналитика с применением ML. Обучение с учителем. Классификация."
   ]
  },
  {
   "cell_type": "markdown",
   "metadata": {},
   "source": [
    "## Вам необходимо построить модель-классификатор по определению диабета.\n",
    "\n",
    "<div style=\"text-align: center;\\\">\n",
    "    <img src=\"https://atlas.ru/blog/content/images/size/w2000/2020/11/2020-11-17-Diabetes-1.png\" width=\"700\" height=\"400\">\n",
    "</div>"
   ]
  },
  {
   "cell_type": "code",
   "execution_count": 2,
   "metadata": {},
   "outputs": [],
   "source": [
    "# Импортируем нужные библиотеки\n",
    "import pandas as pd # для работы с данными\n",
    "import numpy as np # для вычислений\n",
    "import matplotlib.pyplot as plt # для визулизаций\n",
    "import seaborn as sns # для визулизаций\n",
    "\n",
    "from sklearn.linear_model import LogisticRegression # Линейная модель\n",
    "from sklearn import preprocessing # предобработка\n",
    "from sklearn import metrics # метрики\n",
    "from sklearn.model_selection import train_test_split # выборка\n",
    "%matplotlib inline"
   ]
  },
  {
   "cell_type": "markdown",
   "metadata": {},
   "source": [
    "Повторим, как организуется процесс разработки DS-проектов согласно методологии CRISP-DM.\n",
    "\n",
    "Этапы модели CRISP-DM:\n",
    "1. Анализ требований\n",
    "2. Иследование данных\n",
    "3. Подготовка данных\n",
    "4. Моделирование\n",
    "5. Оценка модели\n",
    "6. Внедрение"
   ]
  },
  {
   "cell_type": "markdown",
   "metadata": {},
   "source": [
    "### Анализ требований"
   ]
  },
  {
   "cell_type": "markdown",
   "metadata": {},
   "source": [
    "**Нам необходимо построить модель-классификатор по определению диабета.** У вас нет никаких ограничений по инструментам, новым полям и способу энкодинга данных. Есть данные для train и для test, нужно предсказать диабет для данных test. \n",
    "\n",
    "**Цель: F1-score был больше 0,85**"
   ]
  },
  {
   "cell_type": "markdown",
   "metadata": {},
   "source": [
    "**Знакомство с данными**"
   ]
  },
  {
   "cell_type": "code",
   "execution_count": 9,
   "metadata": {},
   "outputs": [
    {
     "data": {
      "text/html": [
       "<div>\n",
       "<style scoped>\n",
       "    .dataframe tbody tr th:only-of-type {\n",
       "        vertical-align: middle;\n",
       "    }\n",
       "\n",
       "    .dataframe tbody tr th {\n",
       "        vertical-align: top;\n",
       "    }\n",
       "\n",
       "    .dataframe thead th {\n",
       "        text-align: right;\n",
       "    }\n",
       "</style>\n",
       "<table border=\"1\" class=\"dataframe\">\n",
       "  <thead>\n",
       "    <tr style=\"text-align: right;\">\n",
       "      <th></th>\n",
       "      <th>gender</th>\n",
       "      <th>age</th>\n",
       "      <th>hypertension</th>\n",
       "      <th>heart_disease</th>\n",
       "      <th>smoking_history</th>\n",
       "      <th>bmi</th>\n",
       "      <th>HbA1c_level</th>\n",
       "      <th>blood_glucose_level</th>\n",
       "      <th>diabetes</th>\n",
       "    </tr>\n",
       "    <tr>\n",
       "      <th>ID</th>\n",
       "      <th></th>\n",
       "      <th></th>\n",
       "      <th></th>\n",
       "      <th></th>\n",
       "      <th></th>\n",
       "      <th></th>\n",
       "      <th></th>\n",
       "      <th></th>\n",
       "      <th></th>\n",
       "    </tr>\n",
       "  </thead>\n",
       "  <tbody>\n",
       "    <tr>\n",
       "      <th>78830894-cdd8-43d1-9655-03db74141b7a</th>\n",
       "      <td>Female</td>\n",
       "      <td>80.0</td>\n",
       "      <td>0</td>\n",
       "      <td>1</td>\n",
       "      <td>never</td>\n",
       "      <td>25.19</td>\n",
       "      <td>6.6</td>\n",
       "      <td>140</td>\n",
       "      <td>0</td>\n",
       "    </tr>\n",
       "    <tr>\n",
       "      <th>32262c0e-903a-46b8-9061-b1a2f5a3e9b2</th>\n",
       "      <td>Female</td>\n",
       "      <td>54.0</td>\n",
       "      <td>0</td>\n",
       "      <td>0</td>\n",
       "      <td>No Info</td>\n",
       "      <td>27.32</td>\n",
       "      <td>6.6</td>\n",
       "      <td>80</td>\n",
       "      <td>0</td>\n",
       "    </tr>\n",
       "    <tr>\n",
       "      <th>c4868b73-ca90-48ed-af14-3d1f78a5f030</th>\n",
       "      <td>Male</td>\n",
       "      <td>28.0</td>\n",
       "      <td>0</td>\n",
       "      <td>0</td>\n",
       "      <td>never</td>\n",
       "      <td>27.32</td>\n",
       "      <td>5.7</td>\n",
       "      <td>158</td>\n",
       "      <td>0</td>\n",
       "    </tr>\n",
       "    <tr>\n",
       "      <th>bec2ef91-5aff-48df-ac16-cb210b5f29fa</th>\n",
       "      <td>Female</td>\n",
       "      <td>36.0</td>\n",
       "      <td>0</td>\n",
       "      <td>0</td>\n",
       "      <td>current</td>\n",
       "      <td>23.45</td>\n",
       "      <td>5.0</td>\n",
       "      <td>155</td>\n",
       "      <td>0</td>\n",
       "    </tr>\n",
       "    <tr>\n",
       "      <th>1a6852a8-ee80-4d93-bea0-f0cdd941dc3d</th>\n",
       "      <td>Male</td>\n",
       "      <td>76.0</td>\n",
       "      <td>1</td>\n",
       "      <td>1</td>\n",
       "      <td>current</td>\n",
       "      <td>20.14</td>\n",
       "      <td>4.8</td>\n",
       "      <td>155</td>\n",
       "      <td>0</td>\n",
       "    </tr>\n",
       "  </tbody>\n",
       "</table>\n",
       "</div>"
      ],
      "text/plain": [
       "                                      gender   age  hypertension  \\\n",
       "ID                                                                 \n",
       "78830894-cdd8-43d1-9655-03db74141b7a  Female  80.0             0   \n",
       "32262c0e-903a-46b8-9061-b1a2f5a3e9b2  Female  54.0             0   \n",
       "c4868b73-ca90-48ed-af14-3d1f78a5f030    Male  28.0             0   \n",
       "bec2ef91-5aff-48df-ac16-cb210b5f29fa  Female  36.0             0   \n",
       "1a6852a8-ee80-4d93-bea0-f0cdd941dc3d    Male  76.0             1   \n",
       "\n",
       "                                      heart_disease smoking_history    bmi  \\\n",
       "ID                                                                           \n",
       "78830894-cdd8-43d1-9655-03db74141b7a              1           never  25.19   \n",
       "32262c0e-903a-46b8-9061-b1a2f5a3e9b2              0         No Info  27.32   \n",
       "c4868b73-ca90-48ed-af14-3d1f78a5f030              0           never  27.32   \n",
       "bec2ef91-5aff-48df-ac16-cb210b5f29fa              0         current  23.45   \n",
       "1a6852a8-ee80-4d93-bea0-f0cdd941dc3d              1         current  20.14   \n",
       "\n",
       "                                      HbA1c_level  blood_glucose_level  \\\n",
       "ID                                                                       \n",
       "78830894-cdd8-43d1-9655-03db74141b7a          6.6                  140   \n",
       "32262c0e-903a-46b8-9061-b1a2f5a3e9b2          6.6                   80   \n",
       "c4868b73-ca90-48ed-af14-3d1f78a5f030          5.7                  158   \n",
       "bec2ef91-5aff-48df-ac16-cb210b5f29fa          5.0                  155   \n",
       "1a6852a8-ee80-4d93-bea0-f0cdd941dc3d          4.8                  155   \n",
       "\n",
       "                                      diabetes  \n",
       "ID                                              \n",
       "78830894-cdd8-43d1-9655-03db74141b7a         0  \n",
       "32262c0e-903a-46b8-9061-b1a2f5a3e9b2         0  \n",
       "c4868b73-ca90-48ed-af14-3d1f78a5f030         0  \n",
       "bec2ef91-5aff-48df-ac16-cb210b5f29fa         0  \n",
       "1a6852a8-ee80-4d93-bea0-f0cdd941dc3d         0  "
      ]
     },
     "execution_count": 9,
     "metadata": {},
     "output_type": "execute_result"
    }
   ],
   "source": [
    "# Считываем данные из таблицы\n",
    "df = pd.read_csv(r'data\\training_data.csv')\n",
    "df.drop('Unnamed: 0', axis=1, inplace=True) # удаляем ошибочную переменную \"Unnamed: 0\"\n",
    "df.set_index(\"ID\", inplace=True) # устанавливаем колонку \"ID\" как индекс\n",
    "df.head()"
   ]
  },
  {
   "cell_type": "markdown",
   "metadata": {},
   "source": [
    "На каждой строке описано медицинские данные пациента:\n",
    "1. gender - Пол\n",
    "2. age - Возраст\n",
    "3. hypertension - Гипертония\n",
    "4. heart_disease - Болезни сердца\n",
    "5. smoking_history - История курения\n",
    "6. bmi - Индекс массы тела\n",
    "7. HbA1c_level - Уровень HbA1c\n",
    "8. blood_glucose_level - Уровень глюкозы в крови\n",
    "9. diabetes - Диабет (**Целевая переменная**)"
   ]
  },
  {
   "cell_type": "code",
   "execution_count": 10,
   "metadata": {},
   "outputs": [
    {
     "data": {
      "text/plain": [
       "(73718, 9)"
      ]
     },
     "execution_count": 10,
     "metadata": {},
     "output_type": "execute_result"
    }
   ],
   "source": [
    "df.shape"
   ]
  },
  {
   "cell_type": "code",
   "execution_count": 12,
   "metadata": {},
   "outputs": [
    {
     "name": "stdout",
     "output_type": "stream",
     "text": [
      "<class 'pandas.core.frame.DataFrame'>\n",
      "Index: 73718 entries, 78830894-cdd8-43d1-9655-03db74141b7a to a98d816c-f44e-4329-930b-58466aaa0bc7\n",
      "Data columns (total 9 columns):\n",
      " #   Column               Non-Null Count  Dtype  \n",
      "---  ------               --------------  -----  \n",
      " 0   gender               73718 non-null  object \n",
      " 1   age                  73718 non-null  float64\n",
      " 2   hypertension         73718 non-null  int64  \n",
      " 3   heart_disease        73718 non-null  int64  \n",
      " 4   smoking_history      73718 non-null  object \n",
      " 5   bmi                  73718 non-null  float64\n",
      " 6   HbA1c_level          73718 non-null  float64\n",
      " 7   blood_glucose_level  73718 non-null  int64  \n",
      " 8   diabetes             73718 non-null  int64  \n",
      "dtypes: float64(3), int64(4), object(2)\n",
      "memory usage: 5.6+ MB\n"
     ]
    }
   ],
   "source": [
    "df.info()"
   ]
  },
  {
   "cell_type": "code",
   "execution_count": null,
   "metadata": {},
   "outputs": [],
   "source": []
  }
 ],
 "metadata": {
  "kernelspec": {
   "display_name": "Python 3",
   "language": "python",
   "name": "python3"
  },
  "language_info": {
   "codemirror_mode": {
    "name": "ipython",
    "version": 3
   },
   "file_extension": ".py",
   "mimetype": "text/x-python",
   "name": "python",
   "nbconvert_exporter": "python",
   "pygments_lexer": "ipython3",
   "version": "3.12.2"
  }
 },
 "nbformat": 4,
 "nbformat_minor": 2
}
