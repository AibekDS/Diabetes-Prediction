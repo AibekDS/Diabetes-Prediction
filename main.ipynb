{
 "cells": [
  {
   "cell_type": "markdown",
   "metadata": {},
   "source": [
    "# Аналитика с применением ML. Обучение с учителем. Классификация."
   ]
  },
  {
   "cell_type": "markdown",
   "metadata": {},
   "source": [
    "## Вам необходимо построить модель-классификатор по определению диабета.\n",
    "\n",
    "<div style=\"text-align: center;\\\">\n",
    "    <img src=\"https://atlas.ru/blog/content/images/size/w2000/2020/11/2020-11-17-Diabetes-1.png\" width=\"700\" height=\"400\">\n",
    "</div>"
   ]
  },
  {
   "cell_type": "code",
   "execution_count": 195,
   "metadata": {},
   "outputs": [],
   "source": [
    "# Импортируем нужные библиотеки\n",
    "import pandas as pd # для работы с данными\n",
    "import numpy as np # для вычислений\n",
    "import matplotlib.pyplot as plt # для визулизаций\n",
    "import seaborn as sns # для визулизаций\n",
    "\n",
    "import plotly.graph_objects as go # для визулизаций\n",
    "from plotly.subplots import make_subplots \n",
    "\n",
    "from sklearn.linear_model import LogisticRegression # Линейная модель\n",
    "from sklearn import preprocessing # предобработка\n",
    "from sklearn import metrics # метрики\n",
    "from sklearn.model_selection import train_test_split # выборка\n",
    "from sklearn.ensemble import RandomForestClassifier # модель RandomForest\n",
    "\n",
    "from imblearn.over_sampling import SMOTE # для дисбаланса классов\n",
    "\n",
    "import lightgbm as lgb # модель LightGBM\n",
    "%matplotlib inline"
   ]
  },
  {
   "cell_type": "markdown",
   "metadata": {},
   "source": [
    "Повторим, как организуется процесс разработки DS-проектов согласно методологии CRISP-DM.\n",
    "\n",
    "Этапы модели CRISP-DM:\n",
    "1. Анализ требований\n",
    "2. Иследование данных\n",
    "3. Подготовка данных\n",
    "4. Моделирование\n",
    "5. Оценка модели\n",
    "6. Внедрение"
   ]
  },
  {
   "cell_type": "markdown",
   "metadata": {},
   "source": [
    "### Анализ требований"
   ]
  },
  {
   "cell_type": "markdown",
   "metadata": {},
   "source": [
    "**Нам необходимо построить модель-классификатор по определению диабета.** У вас нет никаких ограничений по инструментам, новым полям и способу энкодинга данных. Есть данные для train и для test, нужно предсказать диабет для данных test. \n",
    "\n",
    "**Цель: F1-score был больше 0,85**"
   ]
  },
  {
   "cell_type": "markdown",
   "metadata": {},
   "source": [
    "**Знакомство с данными**"
   ]
  },
  {
   "cell_type": "code",
   "execution_count": 196,
   "metadata": {},
   "outputs": [
    {
     "data": {
      "text/html": [
       "<div>\n",
       "<style scoped>\n",
       "    .dataframe tbody tr th:only-of-type {\n",
       "        vertical-align: middle;\n",
       "    }\n",
       "\n",
       "    .dataframe tbody tr th {\n",
       "        vertical-align: top;\n",
       "    }\n",
       "\n",
       "    .dataframe thead th {\n",
       "        text-align: right;\n",
       "    }\n",
       "</style>\n",
       "<table border=\"1\" class=\"dataframe\">\n",
       "  <thead>\n",
       "    <tr style=\"text-align: right;\">\n",
       "      <th></th>\n",
       "      <th>gender</th>\n",
       "      <th>age</th>\n",
       "      <th>hypertension</th>\n",
       "      <th>heart_disease</th>\n",
       "      <th>smoking_history</th>\n",
       "      <th>bmi</th>\n",
       "      <th>HbA1c_level</th>\n",
       "      <th>blood_glucose_level</th>\n",
       "      <th>diabetes</th>\n",
       "    </tr>\n",
       "    <tr>\n",
       "      <th>ID</th>\n",
       "      <th></th>\n",
       "      <th></th>\n",
       "      <th></th>\n",
       "      <th></th>\n",
       "      <th></th>\n",
       "      <th></th>\n",
       "      <th></th>\n",
       "      <th></th>\n",
       "      <th></th>\n",
       "    </tr>\n",
       "  </thead>\n",
       "  <tbody>\n",
       "    <tr>\n",
       "      <th>78830894-cdd8-43d1-9655-03db74141b7a</th>\n",
       "      <td>Female</td>\n",
       "      <td>80.0</td>\n",
       "      <td>0</td>\n",
       "      <td>1</td>\n",
       "      <td>never</td>\n",
       "      <td>25.19</td>\n",
       "      <td>6.6</td>\n",
       "      <td>140</td>\n",
       "      <td>0</td>\n",
       "    </tr>\n",
       "    <tr>\n",
       "      <th>32262c0e-903a-46b8-9061-b1a2f5a3e9b2</th>\n",
       "      <td>Female</td>\n",
       "      <td>54.0</td>\n",
       "      <td>0</td>\n",
       "      <td>0</td>\n",
       "      <td>No Info</td>\n",
       "      <td>27.32</td>\n",
       "      <td>6.6</td>\n",
       "      <td>80</td>\n",
       "      <td>0</td>\n",
       "    </tr>\n",
       "    <tr>\n",
       "      <th>c4868b73-ca90-48ed-af14-3d1f78a5f030</th>\n",
       "      <td>Male</td>\n",
       "      <td>28.0</td>\n",
       "      <td>0</td>\n",
       "      <td>0</td>\n",
       "      <td>never</td>\n",
       "      <td>27.32</td>\n",
       "      <td>5.7</td>\n",
       "      <td>158</td>\n",
       "      <td>0</td>\n",
       "    </tr>\n",
       "    <tr>\n",
       "      <th>bec2ef91-5aff-48df-ac16-cb210b5f29fa</th>\n",
       "      <td>Female</td>\n",
       "      <td>36.0</td>\n",
       "      <td>0</td>\n",
       "      <td>0</td>\n",
       "      <td>current</td>\n",
       "      <td>23.45</td>\n",
       "      <td>5.0</td>\n",
       "      <td>155</td>\n",
       "      <td>0</td>\n",
       "    </tr>\n",
       "    <tr>\n",
       "      <th>1a6852a8-ee80-4d93-bea0-f0cdd941dc3d</th>\n",
       "      <td>Male</td>\n",
       "      <td>76.0</td>\n",
       "      <td>1</td>\n",
       "      <td>1</td>\n",
       "      <td>current</td>\n",
       "      <td>20.14</td>\n",
       "      <td>4.8</td>\n",
       "      <td>155</td>\n",
       "      <td>0</td>\n",
       "    </tr>\n",
       "  </tbody>\n",
       "</table>\n",
       "</div>"
      ],
      "text/plain": [
       "                                      gender   age  hypertension  \\\n",
       "ID                                                                 \n",
       "78830894-cdd8-43d1-9655-03db74141b7a  Female  80.0             0   \n",
       "32262c0e-903a-46b8-9061-b1a2f5a3e9b2  Female  54.0             0   \n",
       "c4868b73-ca90-48ed-af14-3d1f78a5f030    Male  28.0             0   \n",
       "bec2ef91-5aff-48df-ac16-cb210b5f29fa  Female  36.0             0   \n",
       "1a6852a8-ee80-4d93-bea0-f0cdd941dc3d    Male  76.0             1   \n",
       "\n",
       "                                      heart_disease smoking_history    bmi  \\\n",
       "ID                                                                           \n",
       "78830894-cdd8-43d1-9655-03db74141b7a              1           never  25.19   \n",
       "32262c0e-903a-46b8-9061-b1a2f5a3e9b2              0         No Info  27.32   \n",
       "c4868b73-ca90-48ed-af14-3d1f78a5f030              0           never  27.32   \n",
       "bec2ef91-5aff-48df-ac16-cb210b5f29fa              0         current  23.45   \n",
       "1a6852a8-ee80-4d93-bea0-f0cdd941dc3d              1         current  20.14   \n",
       "\n",
       "                                      HbA1c_level  blood_glucose_level  \\\n",
       "ID                                                                       \n",
       "78830894-cdd8-43d1-9655-03db74141b7a          6.6                  140   \n",
       "32262c0e-903a-46b8-9061-b1a2f5a3e9b2          6.6                   80   \n",
       "c4868b73-ca90-48ed-af14-3d1f78a5f030          5.7                  158   \n",
       "bec2ef91-5aff-48df-ac16-cb210b5f29fa          5.0                  155   \n",
       "1a6852a8-ee80-4d93-bea0-f0cdd941dc3d          4.8                  155   \n",
       "\n",
       "                                      diabetes  \n",
       "ID                                              \n",
       "78830894-cdd8-43d1-9655-03db74141b7a         0  \n",
       "32262c0e-903a-46b8-9061-b1a2f5a3e9b2         0  \n",
       "c4868b73-ca90-48ed-af14-3d1f78a5f030         0  \n",
       "bec2ef91-5aff-48df-ac16-cb210b5f29fa         0  \n",
       "1a6852a8-ee80-4d93-bea0-f0cdd941dc3d         0  "
      ]
     },
     "execution_count": 196,
     "metadata": {},
     "output_type": "execute_result"
    }
   ],
   "source": [
    "# Считываем данные из таблицы\n",
    "df = pd.read_csv(r'data\\training_data.csv')\n",
    "df.drop('Unnamed: 0', axis=1, inplace=True) # удаляем ошибочную переменную \"Unnamed: 0\"\n",
    "df.set_index(\"ID\", inplace=True) # устанавливаем колонку \"ID\" как индекс\n",
    "df.head()"
   ]
  },
  {
   "cell_type": "markdown",
   "metadata": {},
   "source": [
    "На каждой строке описано медицинские данные пациента:\n",
    "1. gender - Пол\n",
    "2. age - Возраст\n",
    "3. hypertension - Гипертония\n",
    "4. heart_disease - Болезни сердца\n",
    "5. smoking_history - История курения\n",
    "6. bmi - Индекс массы тела\n",
    "7. HbA1c_level - Уровень HbA1c\n",
    "8. blood_glucose_level - Уровень глюкозы в крови\n",
    "9. diabetes - Диабет (**Целевая переменная**)"
   ]
  },
  {
   "cell_type": "code",
   "execution_count": 197,
   "metadata": {},
   "outputs": [
    {
     "data": {
      "text/plain": [
       "(73718, 9)"
      ]
     },
     "execution_count": 197,
     "metadata": {},
     "output_type": "execute_result"
    }
   ],
   "source": [
    "df.shape"
   ]
  },
  {
   "cell_type": "code",
   "execution_count": 198,
   "metadata": {},
   "outputs": [
    {
     "name": "stdout",
     "output_type": "stream",
     "text": [
      "<class 'pandas.core.frame.DataFrame'>\n",
      "Index: 73718 entries, 78830894-cdd8-43d1-9655-03db74141b7a to a98d816c-f44e-4329-930b-58466aaa0bc7\n",
      "Data columns (total 9 columns):\n",
      " #   Column               Non-Null Count  Dtype  \n",
      "---  ------               --------------  -----  \n",
      " 0   gender               73718 non-null  object \n",
      " 1   age                  73718 non-null  float64\n",
      " 2   hypertension         73718 non-null  int64  \n",
      " 3   heart_disease        73718 non-null  int64  \n",
      " 4   smoking_history      73718 non-null  object \n",
      " 5   bmi                  73718 non-null  float64\n",
      " 6   HbA1c_level          73718 non-null  float64\n",
      " 7   blood_glucose_level  73718 non-null  int64  \n",
      " 8   diabetes             73718 non-null  int64  \n",
      "dtypes: float64(3), int64(4), object(2)\n",
      "memory usage: 5.6+ MB\n"
     ]
    }
   ],
   "source": [
    "df.info()"
   ]
  },
  {
   "cell_type": "markdown",
   "metadata": {},
   "source": [
    "Требуется изменить тип дынных некоторых колоннок."
   ]
  },
  {
   "cell_type": "code",
   "execution_count": 199,
   "metadata": {},
   "outputs": [],
   "source": [
    "# Изменение типа данных 'hypertension' на boolean\n",
    "df['hypertension'] = df['hypertension'].astype(bool)\n",
    "# Изменение типа данных 'heart_disease' на boolean\n",
    "df['heart_disease'] = df['heart_disease'].astype(bool)\n",
    "# Изменение типа данных 'diabetes' на boolean\n",
    "df['diabetes'] = df['diabetes'].astype(bool)"
   ]
  },
  {
   "cell_type": "code",
   "execution_count": 200,
   "metadata": {},
   "outputs": [
    {
     "name": "stdout",
     "output_type": "stream",
     "text": [
      "<class 'pandas.core.frame.DataFrame'>\n",
      "Index: 73718 entries, 78830894-cdd8-43d1-9655-03db74141b7a to a98d816c-f44e-4329-930b-58466aaa0bc7\n",
      "Data columns (total 9 columns):\n",
      " #   Column               Non-Null Count  Dtype  \n",
      "---  ------               --------------  -----  \n",
      " 0   gender               73718 non-null  object \n",
      " 1   age                  73718 non-null  float64\n",
      " 2   hypertension         73718 non-null  bool   \n",
      " 3   heart_disease        73718 non-null  bool   \n",
      " 4   smoking_history      73718 non-null  object \n",
      " 5   bmi                  73718 non-null  float64\n",
      " 6   HbA1c_level          73718 non-null  float64\n",
      " 7   blood_glucose_level  73718 non-null  int64  \n",
      " 8   diabetes             73718 non-null  bool   \n",
      "dtypes: bool(3), float64(3), int64(1), object(2)\n",
      "memory usage: 4.1+ MB\n"
     ]
    }
   ],
   "source": [
    "df.info()"
   ]
  },
  {
   "cell_type": "markdown",
   "metadata": {},
   "source": [
    "### Исследование данных"
   ]
  },
  {
   "cell_type": "markdown",
   "metadata": {},
   "source": [
    "Цель этого шага — понять слабые и сильные стороны предоставленных данных, определить их достаточность, оценить взаимосвязи между признаками и предложить идеи, как их использовать."
   ]
  },
  {
   "cell_type": "markdown",
   "metadata": {},
   "source": [
    "Выводим описательные статистики для числовых и категориальных признаков"
   ]
  },
  {
   "cell_type": "code",
   "execution_count": 201,
   "metadata": {},
   "outputs": [
    {
     "data": {
      "text/html": [
       "<div>\n",
       "<style scoped>\n",
       "    .dataframe tbody tr th:only-of-type {\n",
       "        vertical-align: middle;\n",
       "    }\n",
       "\n",
       "    .dataframe tbody tr th {\n",
       "        vertical-align: top;\n",
       "    }\n",
       "\n",
       "    .dataframe thead th {\n",
       "        text-align: right;\n",
       "    }\n",
       "</style>\n",
       "<table border=\"1\" class=\"dataframe\">\n",
       "  <thead>\n",
       "    <tr style=\"text-align: right;\">\n",
       "      <th></th>\n",
       "      <th>age</th>\n",
       "      <th>bmi</th>\n",
       "      <th>HbA1c_level</th>\n",
       "      <th>blood_glucose_level</th>\n",
       "    </tr>\n",
       "  </thead>\n",
       "  <tbody>\n",
       "    <tr>\n",
       "      <th>count</th>\n",
       "      <td>73718.000000</td>\n",
       "      <td>73718.000000</td>\n",
       "      <td>73718.000000</td>\n",
       "      <td>73718.000000</td>\n",
       "    </tr>\n",
       "    <tr>\n",
       "      <th>mean</th>\n",
       "      <td>41.852959</td>\n",
       "      <td>27.348037</td>\n",
       "      <td>5.534038</td>\n",
       "      <td>138.197835</td>\n",
       "    </tr>\n",
       "    <tr>\n",
       "      <th>std</th>\n",
       "      <td>22.488153</td>\n",
       "      <td>6.776093</td>\n",
       "      <td>1.070917</td>\n",
       "      <td>40.892972</td>\n",
       "    </tr>\n",
       "    <tr>\n",
       "      <th>min</th>\n",
       "      <td>0.080000</td>\n",
       "      <td>10.010000</td>\n",
       "      <td>3.500000</td>\n",
       "      <td>80.000000</td>\n",
       "    </tr>\n",
       "    <tr>\n",
       "      <th>25%</th>\n",
       "      <td>24.000000</td>\n",
       "      <td>23.430000</td>\n",
       "      <td>4.800000</td>\n",
       "      <td>100.000000</td>\n",
       "    </tr>\n",
       "    <tr>\n",
       "      <th>50%</th>\n",
       "      <td>43.000000</td>\n",
       "      <td>27.320000</td>\n",
       "      <td>5.800000</td>\n",
       "      <td>140.000000</td>\n",
       "    </tr>\n",
       "    <tr>\n",
       "      <th>75%</th>\n",
       "      <td>59.000000</td>\n",
       "      <td>29.900000</td>\n",
       "      <td>6.200000</td>\n",
       "      <td>159.000000</td>\n",
       "    </tr>\n",
       "    <tr>\n",
       "      <th>max</th>\n",
       "      <td>80.000000</td>\n",
       "      <td>95.690000</td>\n",
       "      <td>9.000000</td>\n",
       "      <td>300.000000</td>\n",
       "    </tr>\n",
       "  </tbody>\n",
       "</table>\n",
       "</div>"
      ],
      "text/plain": [
       "                age           bmi   HbA1c_level  blood_glucose_level\n",
       "count  73718.000000  73718.000000  73718.000000         73718.000000\n",
       "mean      41.852959     27.348037      5.534038           138.197835\n",
       "std       22.488153      6.776093      1.070917            40.892972\n",
       "min        0.080000     10.010000      3.500000            80.000000\n",
       "25%       24.000000     23.430000      4.800000           100.000000\n",
       "50%       43.000000     27.320000      5.800000           140.000000\n",
       "75%       59.000000     29.900000      6.200000           159.000000\n",
       "max       80.000000     95.690000      9.000000           300.000000"
      ]
     },
     "execution_count": 201,
     "metadata": {},
     "output_type": "execute_result"
    }
   ],
   "source": [
    "df.describe()"
   ]
  },
  {
   "cell_type": "code",
   "execution_count": 202,
   "metadata": {},
   "outputs": [
    {
     "data": {
      "text/html": [
       "<div>\n",
       "<style scoped>\n",
       "    .dataframe tbody tr th:only-of-type {\n",
       "        vertical-align: middle;\n",
       "    }\n",
       "\n",
       "    .dataframe tbody tr th {\n",
       "        vertical-align: top;\n",
       "    }\n",
       "\n",
       "    .dataframe thead th {\n",
       "        text-align: right;\n",
       "    }\n",
       "</style>\n",
       "<table border=\"1\" class=\"dataframe\">\n",
       "  <thead>\n",
       "    <tr style=\"text-align: right;\">\n",
       "      <th></th>\n",
       "      <th>gender</th>\n",
       "      <th>smoking_history</th>\n",
       "    </tr>\n",
       "  </thead>\n",
       "  <tbody>\n",
       "    <tr>\n",
       "      <th>count</th>\n",
       "      <td>73718</td>\n",
       "      <td>73718</td>\n",
       "    </tr>\n",
       "    <tr>\n",
       "      <th>unique</th>\n",
       "      <td>3</td>\n",
       "      <td>6</td>\n",
       "    </tr>\n",
       "    <tr>\n",
       "      <th>top</th>\n",
       "      <td>Female</td>\n",
       "      <td>never</td>\n",
       "    </tr>\n",
       "    <tr>\n",
       "      <th>freq</th>\n",
       "      <td>43097</td>\n",
       "      <td>26296</td>\n",
       "    </tr>\n",
       "  </tbody>\n",
       "</table>\n",
       "</div>"
      ],
      "text/plain": [
       "        gender smoking_history\n",
       "count    73718           73718\n",
       "unique       3               6\n",
       "top     Female           never\n",
       "freq     43097           26296"
      ]
     },
     "execution_count": 202,
     "metadata": {},
     "output_type": "execute_result"
    }
   ],
   "source": [
    "df.describe(include='object')"
   ]
  },
  {
   "cell_type": "code",
   "execution_count": 203,
   "metadata": {},
   "outputs": [],
   "source": [
    "# создаем копию для облегчения работы с таблицей\n",
    "temp_data = df.copy()"
   ]
  },
  {
   "cell_type": "code",
   "execution_count": 204,
   "metadata": {},
   "outputs": [
    {
     "data": {
      "text/plain": [
       "['age', 'bmi', 'HbA1c_level', 'blood_glucose_level']"
      ]
     },
     "execution_count": 204,
     "metadata": {},
     "output_type": "execute_result"
    }
   ],
   "source": [
    "types = temp_data.dtypes # типы данных колонок\n",
    "num_features = list(types[(types != 'object') & (types != 'bool')].index) # берем все численные метрики\n",
    "num_features"
   ]
  },
  {
   "cell_type": "markdown",
   "metadata": {},
   "source": [
    "Покажем визуализацией диаграмму рассеяния для числовых признаков. Дополнительно поверх диаграммы рассеяния построим отношения с целевой переменной."
   ]
  },
  {
   "cell_type": "markdown",
   "metadata": {},
   "source": [
    "#### Визуализируем числовые признаки "
   ]
  },
  {
   "cell_type": "code",
   "execution_count": 205,
   "metadata": {},
   "outputs": [
    {
     "data": {
      "image/png": "[encoded data removed]",
      "text/plain": [
       "<Figure size 1200x2000 with 8 Axes>"
      ]
     },
     "metadata": {},
     "output_type": "display_data"
    }
   ],
   "source": [
    "n = len(num_features)\n",
    "fig, axis = plt.subplots(n, 2, figsize=(12, n*5))\n",
    "for i, feature in enumerate(num_features):\n",
    "    # Диаграмма рассеяния\n",
    "    histplot_1 = sns.histplot(data=temp_data, x=feature, ax=axis[i][0])\n",
    "    histplot_1.set_title('{} hist'.format(feature))\n",
    "    histplot_1.xaxis.set_tick_params(rotation=45)\n",
    "    # Диаграмма рассеяния + Целевая переменная\n",
    "    histplot_2 = sns.histplot(data=temp_data, x=feature, hue='diabetes', multiple='stack', ax=axis[i][1])\n",
    "    histplot_2.set_title('{} and Diabetes hist'.format(feature))\n",
    "    histplot_2.xaxis.set_tick_params(rotation=45)\n",
    "    # Добавление легенды вручную\n",
    "    histplot_2.legend_.set_title('Diabetes')\n",
    "    histplot_2.legend_.set_bbox_to_anchor((1, 1))\n",
    "    \n",
    "plt.tight_layout() # выравнивание графиков\n",
    "plt.show()"
   ]
  },
  {
   "cell_type": "markdown",
   "metadata": {},
   "source": [
    "Строим тепловую карту для корреляционной матрицы, чтобы оценить мультиколлинеарную зависимость и линейную взаимосвязь между числовыми переменнами."
   ]
  },
  {
   "cell_type": "code",
   "execution_count": 206,
   "metadata": {},
   "outputs": [
    {
     "data": {
      "text/plain": [
       "<Axes: >"
      ]
     },
     "execution_count": 206,
     "metadata": {},
     "output_type": "execute_result"
    },
    {
     "data": {
      "image/png": "[encoded data removed]",
      "text/plain": [
       "<Figure size 1200x500 with 2 Axes>"
      ]
     },
     "metadata": {},
     "output_type": "display_data"
    }
   ],
   "source": [
    "# Строим тепловую карту корреляций\n",
    "fig, _ = plt.subplots(figsize=(12, 5))\n",
    "sns.heatmap(temp_data[num_features].corr(), annot=True)"
   ]
  },
  {
   "cell_type": "markdown",
   "metadata": {},
   "source": [
    "Покажем визуализацией Гистограмму для object и bool признаков и отношение к целевому признаку."
   ]
  },
  {
   "cell_type": "markdown",
   "metadata": {},
   "source": [
    "#### Визуализируем признаки типа \"object\""
   ]
  },
  {
   "cell_type": "code",
   "execution_count": 207,
   "metadata": {},
   "outputs": [
    {
     "data": {
      "image/png": "[encoded data removed]",
      "text/plain": [
       "<Figure size 1200x500 with 2 Axes>"
      ]
     },
     "metadata": {},
     "output_type": "display_data"
    }
   ],
   "source": [
    "object_features = list(types[types == 'object'].index)\n",
    "\n",
    "n = len(object_features)\n",
    "fig, axis = plt.subplots(1, n, figsize=(n*6, 5))\n",
    "for i, feature in enumerate(object_features):    \n",
    "    # Гистограмма    \n",
    "    histplot = sns.histplot(data=temp_data, x=feature, hue='diabetes', multiple='stack', ax=axis[i])\n",
    "    histplot.set_title('{} and Diabetes hist'.format(feature))\n",
    "    histplot.xaxis.set_tick_params(rotation=45)\n",
    "    # Добавление легенды вручную\n",
    "    histplot.legend_.set_title('Diabetes')\n",
    "    histplot.legend_.set_bbox_to_anchor((1, 1))\n",
    "    \n",
    "plt.tight_layout() # выравнивание графиков\n",
    "plt.show()"
   ]
  },
  {
   "cell_type": "markdown",
   "metadata": {},
   "source": [
    "#### Визуализируем признаки типа \"boolean\""
   ]
  },
  {
   "cell_type": "code",
   "execution_count": 208,
   "metadata": {},
   "outputs": [
    {
     "data": {
      "image/png": "[encoded data removed]",
      "text/plain": [
       "<Figure size 1200x500 with 2 Axes>"
      ]
     },
     "metadata": {},
     "output_type": "display_data"
    }
   ],
   "source": [
    "bool_features = list(types[types == 'bool'].index)\n",
    "bool_features.pop(-1) # удалил \"diabetes\"\n",
    "\n",
    "n = len(bool_features)\n",
    "fig, axis = plt.subplots(1, n, figsize=(n*6, 5))\n",
    "for i, feature in enumerate(bool_features):\n",
    "    # Гистограмма    \n",
    "    histplot = sns.histplot(data=temp_data, x=feature, hue='diabetes', multiple='stack', ax=axis[i])\n",
    "    histplot.set_title('{} and Diabetes hist'.format(feature))\n",
    "    histplot.xaxis.set_tick_params(rotation=45)\n",
    "    # Добавление легенды вручную\n",
    "    histplot.legend_.set_title('Diabetes')\n",
    "    histplot.legend_.set_bbox_to_anchor((1, 1))\n",
    "    \n",
    "plt.tight_layout() # выравнивание графиков\n",
    "plt.show()"
   ]
  },
  {
   "cell_type": "markdown",
   "metadata": {},
   "source": [
    "#### Дисбаланс классов"
   ]
  },
  {
   "cell_type": "markdown",
   "metadata": {},
   "source": [
    "Если посмотреть балланс между классами целевой переменны, то мы можем увидеть большой дисбаланс классов. Из за этого будущем модель покажет плохие результаты."
   ]
  },
  {
   "cell_type": "code",
   "execution_count": 209,
   "metadata": {},
   "outputs": [
    {
     "data": {
      "text/plain": [
       "diabetes\n",
       "False    67168\n",
       "True      6550\n",
       "Name: count, dtype: int64"
      ]
     },
     "execution_count": 209,
     "metadata": {},
     "output_type": "execute_result"
    }
   ],
   "source": [
    "temp_data['diabetes'].value_counts()"
   ]
  },
  {
   "cell_type": "markdown",
   "metadata": {},
   "source": [
    "Чтобы решить **дисбаланс** между классами. Нужно использовать SMOTE на след. этапе."
   ]
  },
  {
   "cell_type": "markdown",
   "metadata": {},
   "source": [
    "### Подготовка данных"
   ]
  },
  {
   "cell_type": "markdown",
   "metadata": {},
   "source": [
    "Цель этого этапа — подготовить обучающую выборку для использования в моделировании."
   ]
  },
  {
   "cell_type": "markdown",
   "metadata": {},
   "source": [
    "**Модель:** Классификация\n",
    "\n",
    "**Задачи:**\n",
    "* Анализ дубликатов\n",
    "* Анализ пустот\n",
    "* Удаление выбросов\n",
    "* Обработать числовые метрики\n",
    "* Обработать категориальные метрики\n",
    "* Удаление лишних метрик"
   ]
  },
  {
   "cell_type": "markdown",
   "metadata": {},
   "source": [
    "#### Анализ дубликатов\n",
    "\n",
    "Выводим дубликаты с помощью функции duplicated() и удаляем их функцией drop_duplicates()."
   ]
  },
  {
   "cell_type": "code",
   "execution_count": 210,
   "metadata": {},
   "outputs": [
    {
     "data": {
      "text/plain": [
       "73718"
      ]
     },
     "execution_count": 210,
     "metadata": {},
     "output_type": "execute_result"
    }
   ],
   "source": [
    "# Выводим количество данных\n",
    "temp_data.shape[0]"
   ]
  },
  {
   "cell_type": "code",
   "execution_count": 211,
   "metadata": {},
   "outputs": [
    {
     "data": {
      "text/html": [
       "<div>\n",
       "<style scoped>\n",
       "    .dataframe tbody tr th:only-of-type {\n",
       "        vertical-align: middle;\n",
       "    }\n",
       "\n",
       "    .dataframe tbody tr th {\n",
       "        vertical-align: top;\n",
       "    }\n",
       "\n",
       "    .dataframe thead th {\n",
       "        text-align: right;\n",
       "    }\n",
       "</style>\n",
       "<table border=\"1\" class=\"dataframe\">\n",
       "  <thead>\n",
       "    <tr style=\"text-align: right;\">\n",
       "      <th></th>\n",
       "      <th>gender</th>\n",
       "      <th>age</th>\n",
       "      <th>hypertension</th>\n",
       "      <th>heart_disease</th>\n",
       "      <th>smoking_history</th>\n",
       "      <th>bmi</th>\n",
       "      <th>HbA1c_level</th>\n",
       "      <th>blood_glucose_level</th>\n",
       "      <th>diabetes</th>\n",
       "    </tr>\n",
       "    <tr>\n",
       "      <th>ID</th>\n",
       "      <th></th>\n",
       "      <th></th>\n",
       "      <th></th>\n",
       "      <th></th>\n",
       "      <th></th>\n",
       "      <th></th>\n",
       "      <th></th>\n",
       "      <th></th>\n",
       "      <th></th>\n",
       "    </tr>\n",
       "  </thead>\n",
       "  <tbody>\n",
       "    <tr>\n",
       "      <th>1aba46f7-e49e-4824-9cb8-15e11588d477</th>\n",
       "      <td>Female</td>\n",
       "      <td>60.0</td>\n",
       "      <td>False</td>\n",
       "      <td>False</td>\n",
       "      <td>never</td>\n",
       "      <td>23.77</td>\n",
       "      <td>6.1</td>\n",
       "      <td>140</td>\n",
       "      <td>False</td>\n",
       "    </tr>\n",
       "    <tr>\n",
       "      <th>98921651-571e-45bc-8faa-b49bb66e36db</th>\n",
       "      <td>Male</td>\n",
       "      <td>53.0</td>\n",
       "      <td>False</td>\n",
       "      <td>False</td>\n",
       "      <td>current</td>\n",
       "      <td>25.45</td>\n",
       "      <td>6.8</td>\n",
       "      <td>145</td>\n",
       "      <td>True</td>\n",
       "    </tr>\n",
       "    <tr>\n",
       "      <th>bfda2231-30e0-4190-9ac9-4c88ceabb89f</th>\n",
       "      <td>Female</td>\n",
       "      <td>66.0</td>\n",
       "      <td>False</td>\n",
       "      <td>False</td>\n",
       "      <td>No Info</td>\n",
       "      <td>24.00</td>\n",
       "      <td>4.5</td>\n",
       "      <td>85</td>\n",
       "      <td>False</td>\n",
       "    </tr>\n",
       "    <tr>\n",
       "      <th>4ceb4536-5372-4e57-a0ff-3fca96e6b395</th>\n",
       "      <td>Female</td>\n",
       "      <td>10.0</td>\n",
       "      <td>False</td>\n",
       "      <td>False</td>\n",
       "      <td>No Info</td>\n",
       "      <td>20.35</td>\n",
       "      <td>6.0</td>\n",
       "      <td>140</td>\n",
       "      <td>False</td>\n",
       "    </tr>\n",
       "    <tr>\n",
       "      <th>412c6a9a-e142-4497-b077-bd834275e302</th>\n",
       "      <td>Female</td>\n",
       "      <td>7.0</td>\n",
       "      <td>False</td>\n",
       "      <td>False</td>\n",
       "      <td>never</td>\n",
       "      <td>31.71</td>\n",
       "      <td>6.5</td>\n",
       "      <td>159</td>\n",
       "      <td>False</td>\n",
       "    </tr>\n",
       "    <tr>\n",
       "      <th>...</th>\n",
       "      <td>...</td>\n",
       "      <td>...</td>\n",
       "      <td>...</td>\n",
       "      <td>...</td>\n",
       "      <td>...</td>\n",
       "      <td>...</td>\n",
       "      <td>...</td>\n",
       "      <td>...</td>\n",
       "      <td>...</td>\n",
       "    </tr>\n",
       "    <tr>\n",
       "      <th>5c890971-a6d7-44ce-a8a1-3b38cda7ef3b</th>\n",
       "      <td>Female</td>\n",
       "      <td>70.0</td>\n",
       "      <td>True</td>\n",
       "      <td>False</td>\n",
       "      <td>never</td>\n",
       "      <td>55.57</td>\n",
       "      <td>6.2</td>\n",
       "      <td>130</td>\n",
       "      <td>True</td>\n",
       "    </tr>\n",
       "    <tr>\n",
       "      <th>13a8f177-1623-4acf-9db8-1e8ac8577c86</th>\n",
       "      <td>Male</td>\n",
       "      <td>60.0</td>\n",
       "      <td>False</td>\n",
       "      <td>False</td>\n",
       "      <td>No Info</td>\n",
       "      <td>27.32</td>\n",
       "      <td>6.6</td>\n",
       "      <td>160</td>\n",
       "      <td>False</td>\n",
       "    </tr>\n",
       "    <tr>\n",
       "      <th>c9539d1b-075f-481f-8ae4-ab9bba75af5b</th>\n",
       "      <td>Male</td>\n",
       "      <td>65.0</td>\n",
       "      <td>False</td>\n",
       "      <td>False</td>\n",
       "      <td>former</td>\n",
       "      <td>32.07</td>\n",
       "      <td>5.0</td>\n",
       "      <td>160</td>\n",
       "      <td>False</td>\n",
       "    </tr>\n",
       "    <tr>\n",
       "      <th>08eb5a8d-f577-440a-9408-c6d99ca17204</th>\n",
       "      <td>Male</td>\n",
       "      <td>64.0</td>\n",
       "      <td>False</td>\n",
       "      <td>False</td>\n",
       "      <td>current</td>\n",
       "      <td>30.23</td>\n",
       "      <td>6.2</td>\n",
       "      <td>158</td>\n",
       "      <td>False</td>\n",
       "    </tr>\n",
       "    <tr>\n",
       "      <th>a98d816c-f44e-4329-930b-58466aaa0bc7</th>\n",
       "      <td>Female</td>\n",
       "      <td>30.0</td>\n",
       "      <td>False</td>\n",
       "      <td>False</td>\n",
       "      <td>never</td>\n",
       "      <td>19.30</td>\n",
       "      <td>6.2</td>\n",
       "      <td>155</td>\n",
       "      <td>False</td>\n",
       "    </tr>\n",
       "  </tbody>\n",
       "</table>\n",
       "<p>3718 rows × 9 columns</p>\n",
       "</div>"
      ],
      "text/plain": [
       "                                      gender   age  hypertension  \\\n",
       "ID                                                                 \n",
       "1aba46f7-e49e-4824-9cb8-15e11588d477  Female  60.0         False   \n",
       "98921651-571e-45bc-8faa-b49bb66e36db    Male  53.0         False   \n",
       "bfda2231-30e0-4190-9ac9-4c88ceabb89f  Female  66.0         False   \n",
       "4ceb4536-5372-4e57-a0ff-3fca96e6b395  Female  10.0         False   \n",
       "412c6a9a-e142-4497-b077-bd834275e302  Female   7.0         False   \n",
       "...                                      ...   ...           ...   \n",
       "5c890971-a6d7-44ce-a8a1-3b38cda7ef3b  Female  70.0          True   \n",
       "13a8f177-1623-4acf-9db8-1e8ac8577c86    Male  60.0         False   \n",
       "c9539d1b-075f-481f-8ae4-ab9bba75af5b    Male  65.0         False   \n",
       "08eb5a8d-f577-440a-9408-c6d99ca17204    Male  64.0         False   \n",
       "a98d816c-f44e-4329-930b-58466aaa0bc7  Female  30.0         False   \n",
       "\n",
       "                                      heart_disease smoking_history    bmi  \\\n",
       "ID                                                                           \n",
       "1aba46f7-e49e-4824-9cb8-15e11588d477          False           never  23.77   \n",
       "98921651-571e-45bc-8faa-b49bb66e36db          False         current  25.45   \n",
       "bfda2231-30e0-4190-9ac9-4c88ceabb89f          False         No Info  24.00   \n",
       "4ceb4536-5372-4e57-a0ff-3fca96e6b395          False         No Info  20.35   \n",
       "412c6a9a-e142-4497-b077-bd834275e302          False           never  31.71   \n",
       "...                                             ...             ...    ...   \n",
       "5c890971-a6d7-44ce-a8a1-3b38cda7ef3b          False           never  55.57   \n",
       "13a8f177-1623-4acf-9db8-1e8ac8577c86          False         No Info  27.32   \n",
       "c9539d1b-075f-481f-8ae4-ab9bba75af5b          False          former  32.07   \n",
       "08eb5a8d-f577-440a-9408-c6d99ca17204          False         current  30.23   \n",
       "a98d816c-f44e-4329-930b-58466aaa0bc7          False           never  19.30   \n",
       "\n",
       "                                      HbA1c_level  blood_glucose_level  \\\n",
       "ID                                                                       \n",
       "1aba46f7-e49e-4824-9cb8-15e11588d477          6.1                  140   \n",
       "98921651-571e-45bc-8faa-b49bb66e36db          6.8                  145   \n",
       "bfda2231-30e0-4190-9ac9-4c88ceabb89f          4.5                   85   \n",
       "4ceb4536-5372-4e57-a0ff-3fca96e6b395          6.0                  140   \n",
       "412c6a9a-e142-4497-b077-bd834275e302          6.5                  159   \n",
       "...                                           ...                  ...   \n",
       "5c890971-a6d7-44ce-a8a1-3b38cda7ef3b          6.2                  130   \n",
       "13a8f177-1623-4acf-9db8-1e8ac8577c86          6.6                  160   \n",
       "c9539d1b-075f-481f-8ae4-ab9bba75af5b          5.0                  160   \n",
       "08eb5a8d-f577-440a-9408-c6d99ca17204          6.2                  158   \n",
       "a98d816c-f44e-4329-930b-58466aaa0bc7          6.2                  155   \n",
       "\n",
       "                                      diabetes  \n",
       "ID                                              \n",
       "1aba46f7-e49e-4824-9cb8-15e11588d477     False  \n",
       "98921651-571e-45bc-8faa-b49bb66e36db      True  \n",
       "bfda2231-30e0-4190-9ac9-4c88ceabb89f     False  \n",
       "4ceb4536-5372-4e57-a0ff-3fca96e6b395     False  \n",
       "412c6a9a-e142-4497-b077-bd834275e302     False  \n",
       "...                                        ...  \n",
       "5c890971-a6d7-44ce-a8a1-3b38cda7ef3b      True  \n",
       "13a8f177-1623-4acf-9db8-1e8ac8577c86     False  \n",
       "c9539d1b-075f-481f-8ae4-ab9bba75af5b     False  \n",
       "08eb5a8d-f577-440a-9408-c6d99ca17204     False  \n",
       "a98d816c-f44e-4329-930b-58466aaa0bc7     False  \n",
       "\n",
       "[3718 rows x 9 columns]"
      ]
     },
     "execution_count": 211,
     "metadata": {},
     "output_type": "execute_result"
    }
   ],
   "source": [
    "# Выводим дубликаты\n",
    "temp_data[temp_data.duplicated()]"
   ]
  },
  {
   "cell_type": "code",
   "execution_count": 212,
   "metadata": {},
   "outputs": [],
   "source": [
    "# Удаляем дубликаты\n",
    "temp_data = temp_data.drop_duplicates()"
   ]
  },
  {
   "cell_type": "code",
   "execution_count": 213,
   "metadata": {},
   "outputs": [
    {
     "data": {
      "text/plain": [
       "70000"
      ]
     },
     "execution_count": 213,
     "metadata": {},
     "output_type": "execute_result"
    }
   ],
   "source": [
    "# Новое количество данных\n",
    "temp_data.shape[0]"
   ]
  },
  {
   "cell_type": "markdown",
   "metadata": {},
   "source": [
    "Были удалены 3718 строк данных которые были дубликатами."
   ]
  },
  {
   "cell_type": "markdown",
   "metadata": {},
   "source": [
    "#### Анализ пустот\n",
    "\n",
    "Для анализа пустот в данных используем isna()"
   ]
  },
  {
   "cell_type": "code",
   "execution_count": 214,
   "metadata": {},
   "outputs": [
    {
     "data": {
      "text/plain": [
       "gender                 0\n",
       "age                    0\n",
       "hypertension           0\n",
       "heart_disease          0\n",
       "smoking_history        0\n",
       "bmi                    0\n",
       "HbA1c_level            0\n",
       "blood_glucose_level    0\n",
       "diabetes               0\n",
       "dtype: int64"
      ]
     },
     "execution_count": 214,
     "metadata": {},
     "output_type": "execute_result"
    }
   ],
   "source": [
    "# Выводим количество пустых ячеек из каждой колонки нашего датасета \n",
    "temp_data.isna().sum()"
   ]
  },
  {
   "cell_type": "markdown",
   "metadata": {},
   "source": [
    "Пустые ячейки отсутствуют."
   ]
  },
  {
   "cell_type": "markdown",
   "metadata": {},
   "source": [
    "#### Удаление выбросов\n",
    "\n",
    "Цель - удалить выбросы у численных метрик. Если посмотреть на распределение всех числовых признаков, я считаю что я могу удалить выбросы толоко из колонки \"bmi\". Потому что при удалении выбросов из других численных метрик я могу удалить большую часть класса номер 1. Но удалять выбросы и с \"bmi\" тоже опасно."
   ]
  },
  {
   "cell_type": "code",
   "execution_count": 215,
   "metadata": {},
   "outputs": [],
   "source": [
    "def viz_2(temp_data, col_name, target):\n",
    "    fig, axis = plt.subplots(1, 1, figsize=(7, 4))\n",
    "    \n",
    "    Q1 = np.percentile(temp_data[col_name], 25)\n",
    "    Q3 = np.percentile(temp_data[col_name], 75)\n",
    "    IQR = Q3-Q1\n",
    "\n",
    "    bmi_lower_line = temp_data[col_name].median() - 1.5*IQR\n",
    "    bmi_upper_line = temp_data[col_name].median() + 1.5*IQR\n",
    "\n",
    "    histplot_2 = sns.histplot(temp_data, x = col_name, hue=target, multiple='stack')\n",
    "    histplot_2.set_title(\"{} and 3q\".format(col_name))\n",
    "    histplot_2.xaxis.set_tick_params(rotation=45)\n",
    "    histplot.legend_.set_title('Diabetes')\n",
    "    histplot.legend_.set_bbox_to_anchor((1, 1))\n",
    "    \n",
    "    # axis.axvline(temp_data[col_name].median(), color='k', lw=2)\n",
    "    axis.axvline(bmi_lower_line, color='k', ls='--', lw=2)\n",
    "    axis.axvline(bmi_upper_line, color='k', ls='--', lw=2)\n",
    "    \n",
    "    plt.show()\n",
    "    \n",
    "    return bmi_lower_line, bmi_upper_line\n",
    "\n"
   ]
  },
  {
   "cell_type": "code",
   "execution_count": 216,
   "metadata": {},
   "outputs": [
    {
     "data": {
      "image/png": "[encoded data removed]",
      "text/plain": [
       "<Figure size 700x400 with 1 Axes>"
      ]
     },
     "metadata": {},
     "output_type": "display_data"
    }
   ],
   "source": [
    "bmi_lower_line, bmi_upper_line = viz_2(temp_data, 'bmi', 'diabetes')"
   ]
  },
  {
   "cell_type": "code",
   "execution_count": 217,
   "metadata": {},
   "outputs": [
    {
     "data": {
      "image/png": "[encoded data removed]",
      "text/plain": [
       "<Figure size 700x400 with 1 Axes>"
      ]
     },
     "metadata": {},
     "output_type": "display_data"
    },
    {
     "data": {
      "text/plain": [
       "(np.float64(3.6999999999999993), np.float64(7.9))"
      ]
     },
     "execution_count": 217,
     "metadata": {},
     "output_type": "execute_result"
    }
   ],
   "source": [
    "viz_2(temp_data, 'HbA1c_level', 'diabetes')"
   ]
  },
  {
   "cell_type": "code",
   "execution_count": 218,
   "metadata": {},
   "outputs": [
    {
     "data": {
      "image/png": "[encoded data removed]",
      "text/plain": [
       "<Figure size 700x400 with 1 Axes>"
      ]
     },
     "metadata": {},
     "output_type": "display_data"
    },
    {
     "data": {
      "text/plain": [
       "(np.float64(51.5), np.float64(228.5))"
      ]
     },
     "execution_count": 218,
     "metadata": {},
     "output_type": "execute_result"
    }
   ],
   "source": [
    "viz_2(temp_data, 'blood_glucose_level', 'diabetes')"
   ]
  },
  {
   "cell_type": "code",
   "execution_count": 219,
   "metadata": {},
   "outputs": [
    {
     "data": {
      "image/png": "[encoded data removed]",
      "text/plain": [
       "<Figure size 700x400 with 1 Axes>"
      ]
     },
     "metadata": {},
     "output_type": "display_data"
    },
    {
     "data": {
      "text/plain": [
       "(np.float64(-9.5), np.float64(95.5))"
      ]
     },
     "execution_count": 219,
     "metadata": {},
     "output_type": "execute_result"
    }
   ],
   "source": [
    "viz_2(temp_data, 'age', 'diabetes')"
   ]
  },
  {
   "cell_type": "code",
   "execution_count": 220,
   "metadata": {},
   "outputs": [
    {
     "data": {
      "text/plain": [
       "diabetes\n",
       "False    9041\n",
       "True     1386\n",
       "Name: count, dtype: int64"
      ]
     },
     "execution_count": 220,
     "metadata": {},
     "output_type": "execute_result"
    }
   ],
   "source": [
    "temp_data[(temp_data['bmi'] < bmi_lower_line) | (temp_data['bmi'] > bmi_upper_line)]['diabetes'].value_counts()"
   ]
  },
  {
   "cell_type": "markdown",
   "metadata": {},
   "source": [
    "В этом отрезке я не собираюсь удалить \"выбросы\" с bmi. Посмотрим как это скажется на дынных."
   ]
  },
  {
   "cell_type": "markdown",
   "metadata": {},
   "source": [
    "#### Обработать числовые метрики\n",
    "\n",
    "Цель - нормализовать числовые метрики, чтобы в начале обучения они имели одинаковую силу влияния. Нам надо номализовать их в отрезке     [0, 5]. Для этого я использую метод **MinMAx()**. "
   ]
  },
  {
   "cell_type": "markdown",
   "metadata": {},
   "source": [
    "**Аналитически любая нормализация сводится к формуле**\n",
    "\n",
    "$$Xнорм = (Xi - Xсмещ)/Xед$$\n",
    "\n",
    "\n",
    "\n",
    "где \n",
    "\n",
    "* $Xi$ — текущее значение,\n",
    "* $Xсмещ$ — величина смещения значений,\n",
    "* $Xед$ — величина интервала, который будет преобразован к “единице”\n",
    "\n",
    "\n",
    "**Минимакс (MinMax).** Цель — преобразовать исходный набор в диапазон [0..1]. Для него:\n",
    "\n",
    "$Xсмещ$= $Xмин$, минимальное значение исходных данных.\n",
    "\n",
    "$Xед$ = $Xмакс$ — $Xмин$, т.е. за “единичный” интервал берется исходный диапазон значений."
   ]
  },
  {
   "cell_type": "code",
   "execution_count": 221,
   "metadata": {},
   "outputs": [],
   "source": [
    "# Добавил диапазон [0, 10]\n",
    "scaler = preprocessing.MinMaxScaler(feature_range=(0, 10))\n",
    "temp_data[num_features] = scaler.fit_transform(temp_data[num_features])"
   ]
  },
  {
   "cell_type": "code",
   "execution_count": 222,
   "metadata": {},
   "outputs": [
    {
     "data": {
      "image/png": "[encoded data removed]",
      "text/plain": [
       "<Figure size 1000x600 with 1 Axes>"
      ]
     },
     "metadata": {},
     "output_type": "display_data"
    }
   ],
   "source": [
    "plt.figure(figsize=(10, 6))\n",
    "\n",
    "# Цветовая палитра\n",
    "palette = sns.color_palette(\"husl\", len(num_features))\n",
    "\n",
    "# Рисуем гистограммы для каждого числового признака\n",
    "for i, feature in enumerate(num_features):\n",
    "    sns.histplot(temp_data[feature], color=palette[i], label=feature, kde=False, binwidth=0.5)\n",
    "\n",
    "# Добавляем легенду\n",
    "plt.legend(title='Features')\n",
    "plt.xlabel('Value')\n",
    "plt.ylabel('Frequency')\n",
    "plt.title('Histograms of Numerical Features')\n",
    "plt.show()"
   ]
  },
  {
   "cell_type": "markdown",
   "metadata": {},
   "source": [
    "#### Обработать категориальные метрики\n",
    "\n",
    "Произведем One Hot-кодирование категориальных признаков с помощью функции pandas - get_dummies()."
   ]
  },
  {
   "cell_type": "code",
   "execution_count": 223,
   "metadata": {},
   "outputs": [
    {
     "data": {
      "text/html": [
       "<div>\n",
       "<style scoped>\n",
       "    .dataframe tbody tr th:only-of-type {\n",
       "        vertical-align: middle;\n",
       "    }\n",
       "\n",
       "    .dataframe tbody tr th {\n",
       "        vertical-align: top;\n",
       "    }\n",
       "\n",
       "    .dataframe thead th {\n",
       "        text-align: right;\n",
       "    }\n",
       "</style>\n",
       "<table border=\"1\" class=\"dataframe\">\n",
       "  <thead>\n",
       "    <tr style=\"text-align: right;\">\n",
       "      <th></th>\n",
       "      <th>age</th>\n",
       "      <th>hypertension</th>\n",
       "      <th>heart_disease</th>\n",
       "      <th>bmi</th>\n",
       "      <th>HbA1c_level</th>\n",
       "      <th>blood_glucose_level</th>\n",
       "      <th>diabetes</th>\n",
       "      <th>gender_Female</th>\n",
       "      <th>gender_Male</th>\n",
       "      <th>gender_Other</th>\n",
       "      <th>smoking_history_No Info</th>\n",
       "      <th>smoking_history_current</th>\n",
       "      <th>smoking_history_ever</th>\n",
       "      <th>smoking_history_former</th>\n",
       "      <th>smoking_history_never</th>\n",
       "      <th>smoking_history_not current</th>\n",
       "    </tr>\n",
       "    <tr>\n",
       "      <th>ID</th>\n",
       "      <th></th>\n",
       "      <th></th>\n",
       "      <th></th>\n",
       "      <th></th>\n",
       "      <th></th>\n",
       "      <th></th>\n",
       "      <th></th>\n",
       "      <th></th>\n",
       "      <th></th>\n",
       "      <th></th>\n",
       "      <th></th>\n",
       "      <th></th>\n",
       "      <th></th>\n",
       "      <th></th>\n",
       "      <th></th>\n",
       "      <th></th>\n",
       "    </tr>\n",
       "  </thead>\n",
       "  <tbody>\n",
       "    <tr>\n",
       "      <th>78830894-cdd8-43d1-9655-03db74141b7a</th>\n",
       "      <td>10.000000</td>\n",
       "      <td>False</td>\n",
       "      <td>True</td>\n",
       "      <td>1.771709</td>\n",
       "      <td>5.636364</td>\n",
       "      <td>2.727273</td>\n",
       "      <td>False</td>\n",
       "      <td>True</td>\n",
       "      <td>False</td>\n",
       "      <td>False</td>\n",
       "      <td>False</td>\n",
       "      <td>False</td>\n",
       "      <td>False</td>\n",
       "      <td>False</td>\n",
       "      <td>True</td>\n",
       "      <td>False</td>\n",
       "    </tr>\n",
       "    <tr>\n",
       "      <th>32262c0e-903a-46b8-9061-b1a2f5a3e9b2</th>\n",
       "      <td>6.746747</td>\n",
       "      <td>False</td>\n",
       "      <td>False</td>\n",
       "      <td>2.020308</td>\n",
       "      <td>5.636364</td>\n",
       "      <td>0.000000</td>\n",
       "      <td>False</td>\n",
       "      <td>True</td>\n",
       "      <td>False</td>\n",
       "      <td>False</td>\n",
       "      <td>True</td>\n",
       "      <td>False</td>\n",
       "      <td>False</td>\n",
       "      <td>False</td>\n",
       "      <td>False</td>\n",
       "      <td>False</td>\n",
       "    </tr>\n",
       "    <tr>\n",
       "      <th>c4868b73-ca90-48ed-af14-3d1f78a5f030</th>\n",
       "      <td>3.493493</td>\n",
       "      <td>False</td>\n",
       "      <td>False</td>\n",
       "      <td>2.020308</td>\n",
       "      <td>4.000000</td>\n",
       "      <td>3.545455</td>\n",
       "      <td>False</td>\n",
       "      <td>False</td>\n",
       "      <td>True</td>\n",
       "      <td>False</td>\n",
       "      <td>False</td>\n",
       "      <td>False</td>\n",
       "      <td>False</td>\n",
       "      <td>False</td>\n",
       "      <td>True</td>\n",
       "      <td>False</td>\n",
       "    </tr>\n",
       "    <tr>\n",
       "      <th>bec2ef91-5aff-48df-ac16-cb210b5f29fa</th>\n",
       "      <td>4.494494</td>\n",
       "      <td>False</td>\n",
       "      <td>False</td>\n",
       "      <td>1.568627</td>\n",
       "      <td>2.727273</td>\n",
       "      <td>3.409091</td>\n",
       "      <td>False</td>\n",
       "      <td>True</td>\n",
       "      <td>False</td>\n",
       "      <td>False</td>\n",
       "      <td>False</td>\n",
       "      <td>True</td>\n",
       "      <td>False</td>\n",
       "      <td>False</td>\n",
       "      <td>False</td>\n",
       "      <td>False</td>\n",
       "    </tr>\n",
       "    <tr>\n",
       "      <th>1a6852a8-ee80-4d93-bea0-f0cdd941dc3d</th>\n",
       "      <td>9.499499</td>\n",
       "      <td>True</td>\n",
       "      <td>True</td>\n",
       "      <td>1.182306</td>\n",
       "      <td>2.363636</td>\n",
       "      <td>3.409091</td>\n",
       "      <td>False</td>\n",
       "      <td>False</td>\n",
       "      <td>True</td>\n",
       "      <td>False</td>\n",
       "      <td>False</td>\n",
       "      <td>True</td>\n",
       "      <td>False</td>\n",
       "      <td>False</td>\n",
       "      <td>False</td>\n",
       "      <td>False</td>\n",
       "    </tr>\n",
       "  </tbody>\n",
       "</table>\n",
       "</div>"
      ],
      "text/plain": [
       "                                            age  hypertension  heart_disease  \\\n",
       "ID                                                                             \n",
       "78830894-cdd8-43d1-9655-03db74141b7a  10.000000         False           True   \n",
       "32262c0e-903a-46b8-9061-b1a2f5a3e9b2   6.746747         False          False   \n",
       "c4868b73-ca90-48ed-af14-3d1f78a5f030   3.493493         False          False   \n",
       "bec2ef91-5aff-48df-ac16-cb210b5f29fa   4.494494         False          False   \n",
       "1a6852a8-ee80-4d93-bea0-f0cdd941dc3d   9.499499          True           True   \n",
       "\n",
       "                                           bmi  HbA1c_level  \\\n",
       "ID                                                            \n",
       "78830894-cdd8-43d1-9655-03db74141b7a  1.771709     5.636364   \n",
       "32262c0e-903a-46b8-9061-b1a2f5a3e9b2  2.020308     5.636364   \n",
       "c4868b73-ca90-48ed-af14-3d1f78a5f030  2.020308     4.000000   \n",
       "bec2ef91-5aff-48df-ac16-cb210b5f29fa  1.568627     2.727273   \n",
       "1a6852a8-ee80-4d93-bea0-f0cdd941dc3d  1.182306     2.363636   \n",
       "\n",
       "                                      blood_glucose_level  diabetes  \\\n",
       "ID                                                                    \n",
       "78830894-cdd8-43d1-9655-03db74141b7a             2.727273     False   \n",
       "32262c0e-903a-46b8-9061-b1a2f5a3e9b2             0.000000     False   \n",
       "c4868b73-ca90-48ed-af14-3d1f78a5f030             3.545455     False   \n",
       "bec2ef91-5aff-48df-ac16-cb210b5f29fa             3.409091     False   \n",
       "1a6852a8-ee80-4d93-bea0-f0cdd941dc3d             3.409091     False   \n",
       "\n",
       "                                      gender_Female  gender_Male  \\\n",
       "ID                                                                 \n",
       "78830894-cdd8-43d1-9655-03db74141b7a           True        False   \n",
       "32262c0e-903a-46b8-9061-b1a2f5a3e9b2           True        False   \n",
       "c4868b73-ca90-48ed-af14-3d1f78a5f030          False         True   \n",
       "bec2ef91-5aff-48df-ac16-cb210b5f29fa           True        False   \n",
       "1a6852a8-ee80-4d93-bea0-f0cdd941dc3d          False         True   \n",
       "\n",
       "                                      gender_Other  smoking_history_No Info  \\\n",
       "ID                                                                            \n",
       "78830894-cdd8-43d1-9655-03db74141b7a         False                    False   \n",
       "32262c0e-903a-46b8-9061-b1a2f5a3e9b2         False                     True   \n",
       "c4868b73-ca90-48ed-af14-3d1f78a5f030         False                    False   \n",
       "bec2ef91-5aff-48df-ac16-cb210b5f29fa         False                    False   \n",
       "1a6852a8-ee80-4d93-bea0-f0cdd941dc3d         False                    False   \n",
       "\n",
       "                                      smoking_history_current  \\\n",
       "ID                                                              \n",
       "78830894-cdd8-43d1-9655-03db74141b7a                    False   \n",
       "32262c0e-903a-46b8-9061-b1a2f5a3e9b2                    False   \n",
       "c4868b73-ca90-48ed-af14-3d1f78a5f030                    False   \n",
       "bec2ef91-5aff-48df-ac16-cb210b5f29fa                     True   \n",
       "1a6852a8-ee80-4d93-bea0-f0cdd941dc3d                     True   \n",
       "\n",
       "                                      smoking_history_ever  \\\n",
       "ID                                                           \n",
       "78830894-cdd8-43d1-9655-03db74141b7a                 False   \n",
       "32262c0e-903a-46b8-9061-b1a2f5a3e9b2                 False   \n",
       "c4868b73-ca90-48ed-af14-3d1f78a5f030                 False   \n",
       "bec2ef91-5aff-48df-ac16-cb210b5f29fa                 False   \n",
       "1a6852a8-ee80-4d93-bea0-f0cdd941dc3d                 False   \n",
       "\n",
       "                                      smoking_history_former  \\\n",
       "ID                                                             \n",
       "78830894-cdd8-43d1-9655-03db74141b7a                   False   \n",
       "32262c0e-903a-46b8-9061-b1a2f5a3e9b2                   False   \n",
       "c4868b73-ca90-48ed-af14-3d1f78a5f030                   False   \n",
       "bec2ef91-5aff-48df-ac16-cb210b5f29fa                   False   \n",
       "1a6852a8-ee80-4d93-bea0-f0cdd941dc3d                   False   \n",
       "\n",
       "                                      smoking_history_never  \\\n",
       "ID                                                            \n",
       "78830894-cdd8-43d1-9655-03db74141b7a                   True   \n",
       "32262c0e-903a-46b8-9061-b1a2f5a3e9b2                  False   \n",
       "c4868b73-ca90-48ed-af14-3d1f78a5f030                   True   \n",
       "bec2ef91-5aff-48df-ac16-cb210b5f29fa                  False   \n",
       "1a6852a8-ee80-4d93-bea0-f0cdd941dc3d                  False   \n",
       "\n",
       "                                      smoking_history_not current  \n",
       "ID                                                                 \n",
       "78830894-cdd8-43d1-9655-03db74141b7a                        False  \n",
       "32262c0e-903a-46b8-9061-b1a2f5a3e9b2                        False  \n",
       "c4868b73-ca90-48ed-af14-3d1f78a5f030                        False  \n",
       "bec2ef91-5aff-48df-ac16-cb210b5f29fa                        False  \n",
       "1a6852a8-ee80-4d93-bea0-f0cdd941dc3d                        False  "
      ]
     },
     "execution_count": 223,
     "metadata": {},
     "output_type": "execute_result"
    }
   ],
   "source": [
    "#Производим кодирование категориальных признаков\n",
    "dummies_data = pd.get_dummies(temp_data)\n",
    "dummies_data.head()"
   ]
  },
  {
   "cell_type": "code",
   "execution_count": 224,
   "metadata": {},
   "outputs": [
    {
     "data": {
      "text/plain": [
       "(70000, 16)"
      ]
     },
     "execution_count": 224,
     "metadata": {},
     "output_type": "execute_result"
    }
   ],
   "source": [
    "dummies_data.shape"
   ]
  },
  {
   "cell_type": "markdown",
   "metadata": {},
   "source": [
    "#### Удаление лишних метрик"
   ]
  },
  {
   "cell_type": "markdown",
   "metadata": {},
   "source": [
    "Цель - удалить признаки которые имеют низкую значимость. Чтобы это сделать я использовал LightGBM.\n",
    "\n",
    "**Light Gradient Boosted Machine (LightGBM)** — эффективную реализацию ансамбля стохастического градиентного бустинга с открытым исходным кодом. \n",
    "\n",
    "Градиентный бустинг относится к классу ансамблевых алгоритмов машинного обучения, которые могут использоваться для задач классификации или регрессионного прогностического моделирования.\n",
    "\n",
    "У LightGBM есть метод **.feature_importance()** он показывает значимость метрики для прогнозирования. Так можно сортировать метрики по значимости. "
   ]
  },
  {
   "cell_type": "code",
   "execution_count": 225,
   "metadata": {},
   "outputs": [
    {
     "name": "stdout",
     "output_type": "stream",
     "text": [
      "[LightGBM] [Warning] Found whitespace in feature_names, replace with underlines\n",
      "[LightGBM] [Info] Number of positive: 4957, number of negative: 51043\n",
      "[LightGBM] [Info] Auto-choosing row-wise multi-threading, the overhead of testing was 0.002611 seconds.\n",
      "You can set `force_row_wise=true` to remove the overhead.\n",
      "And if memory is not enough, you can set `force_col_wise=true`.\n",
      "[LightGBM] [Info] Total Bins 413\n",
      "[LightGBM] [Info] Number of data points in the train set: 56000, number of used features: 14\n",
      "[LightGBM] [Warning] Found whitespace in feature_names, replace with underlines\n",
      "[LightGBM] [Info] [binary:BoostFromScore]: pavg=0.088518 -> initscore=-2.331868\n",
      "[LightGBM] [Info] Start training from score -2.331868\n",
      "                        feature  importance\n",
      "3                           bmi         705\n",
      "5           blood_glucose_level         675\n",
      "0                           age         586\n",
      "4                   HbA1c_level         446\n",
      "1                  hypertension         137\n",
      "9       smoking_history_No Info          94\n",
      "2                 heart_disease          93\n",
      "6                 gender_Female          52\n",
      "14  smoking_history_not current          50\n",
      "7                   gender_Male          44\n",
      "13        smoking_history_never          39\n",
      "10      smoking_history_current          34\n",
      "11         smoking_history_ever          29\n",
      "12       smoking_history_former          16\n",
      "8                  gender_Other           0\n"
     ]
    }
   ],
   "source": [
    "X = dummies_data.drop('diabetes', axis=1)  # Ваши признаки\n",
    "y = dummies_data['diabetes']   # Ваши целевые переменные\n",
    "\n",
    "# Разделение данных на обучающие и тестовые\n",
    "X_train, X_test, y_train, y_test = train_test_split(X, y, test_size=0.2, random_state=42)\n",
    "\n",
    "# Создание набора данных LightGBM\n",
    "train_data = lgb.Dataset(X_train, label=y_train)\n",
    "test_data = lgb.Dataset(X_test, label=y_test, reference=train_data)\n",
    "\n",
    "# Задание параметров модели\n",
    "params = {\n",
    "    'objective': 'binary',\n",
    "    'metric': 'binary_logloss',\n",
    "    'boosting_type': 'dart'\n",
    "}\n",
    "\n",
    "model = lgb.LGBMClassifier()\n",
    "\n",
    "# Обучение модели\n",
    "model = lgb.train(params, train_data, valid_sets=[test_data], num_boost_round=100)\n",
    "\n",
    "# Получение важности признаков\n",
    "importance = model.feature_importance()\n",
    "feature_names = X_train.columns\n",
    "\n",
    "# Создание DataFrame для удобного анализа\n",
    "feature_importance_df = pd.DataFrame({'feature': feature_names, 'importance': importance})\n",
    "\n",
    "# Сортировка признаков по важности\n",
    "feature_importance_df = feature_importance_df.sort_values(by='importance', ascending=False)\n",
    "\n",
    "# Вывод важных признаков\n",
    "print(feature_importance_df)"
   ]
  },
  {
   "cell_type": "code",
   "execution_count": 226,
   "metadata": {},
   "outputs": [],
   "source": [
    "dummies_data = dummies_data.drop('gender_Other', axis=1)"
   ]
  },
  {
   "cell_type": "code",
   "execution_count": 227,
   "metadata": {},
   "outputs": [],
   "source": [
    "dummies_data = dummies_data[-((dummies_data['gender_Male'] == False) & (dummies_data['gender_Female']==False))]"
   ]
  },
  {
   "cell_type": "markdown",
   "metadata": {},
   "source": [
    "## Итерация #1"
   ]
  },
  {
   "cell_type": "markdown",
   "metadata": {},
   "source": [
    "### Моделирование + Оценка модели"
   ]
  },
  {
   "cell_type": "code",
   "execution_count": 228,
   "metadata": {},
   "outputs": [],
   "source": [
    "# Функция для удобства\n",
    "def metrics_print(y_test, y_pred):\n",
    "    print(f\"\\nf1-score: {metrics.f1_score(y_test, y_pred)}\")\n",
    "    print(f\"precision: {metrics.precision_score(y_test, y_pred)}\")\n",
    "    print(f\"recall: {metrics.recall_score(y_test, y_pred)}\")\n",
    "    print(f\"confusion matrix: \\n{metrics.confusion_matrix(y_test, y_pred)}\")"
   ]
  },
  {
   "cell_type": "code",
   "execution_count": 229,
   "metadata": {},
   "outputs": [
    {
     "name": "stdout",
     "output_type": "stream",
     "text": [
      "\n",
      "f1-score: 0.5848508841382951\n",
      "precision: 0.434850863422292\n",
      "recall: 0.8928283642224013\n",
      "confusion matrix: \n",
      "[[11317  1440]\n",
      " [  133  1108]]\n"
     ]
    }
   ],
   "source": [
    "X = dummies_data.drop('diabetes', axis=1)  # Ваши признаки\n",
    "y = dummies_data['diabetes']   # Ваши целевые переменные\n",
    "\n",
    "# Разделение данных на обучающие и тестовые\n",
    "X_train, X_test, y_train, y_test = train_test_split(X, y, test_size=0.2, random_state=42)\n",
    "\n",
    "# Создаю базывую модель LogisticRegression(), но добавляю class_weight.\n",
    "# Потому что у нас дисбаланс классов.\n",
    "model = LogisticRegression(class_weight='balanced', random_state=42)\n",
    "\n",
    "# Обучаем модель\n",
    "model.fit(X_train, y_train)\n",
    "\n",
    "# Предсказываем X_test\n",
    "y_pred = model.predict(X_test)\n",
    "# Выводим ошибку\n",
    "metrics_print(y_test, y_pred)"
   ]
  },
  {
   "cell_type": "markdown",
   "metadata": {},
   "source": [
    "## Итерация #2"
   ]
  },
  {
   "cell_type": "markdown",
   "metadata": {},
   "source": [
    "* Нужно попробывать обьеденить колонки про курение \n",
    "* Нужно использовать SMOTE только для числовых признаков\n",
    "* Попробывать на более сложной модели и сравнить модели\n",
    "* Сделать тюнинг модели "
   ]
  },
  {
   "cell_type": "markdown",
   "metadata": {},
   "source": [
    "#### 1) Нужно попробывать обьеденить колонки про курение\n",
    "\n",
    "У нас в категориальном признаке \"smoking_history\" есть 6 класса: never(Никогда), No Info (Нет информации), former (Бывший), current (Настоящее время), not current (Бывший), ever(Когда-либо). \n",
    "\n",
    "Я собираюсь обьединить в 3 класса: Never (никогда), No_info (Нет информации) и Ever(Когда-либо). Нужно еще попробывать удалить класс No_info, потому что по логике она считается выбросом. "
   ]
  },
  {
   "cell_type": "code",
   "execution_count": 189,
   "metadata": {},
   "outputs": [
    {
     "data": {
      "text/plain": [
       "smoking_history\n",
       "never          25010\n",
       "No Info        23957\n",
       "former          6787\n",
       "current         6663\n",
       "not current     4684\n",
       "ever            2899\n",
       "Name: count, dtype: int64"
      ]
     },
     "execution_count": 189,
     "metadata": {},
     "output_type": "execute_result"
    }
   ],
   "source": [
    "# Уникальные занчения в колонке smoking_history и подчет количество\n",
    "temp_data['smoking_history'].value_counts()"
   ]
  },
  {
   "cell_type": "code",
   "execution_count": 190,
   "metadata": {},
   "outputs": [],
   "source": [
    "# # Функция для перезаписи значений\n",
    "# def rewrite_class(value):\n",
    "#     if value == 'former' or value=='current' or value=='not current' or value=='ever':\n",
    "#         return 'ever' # когдо либо\n",
    "#     elif value == 'never':\n",
    "#         return 'never' # никогда\n",
    "#     else:\n",
    "#         return 'no_info' # нет инфо\n",
    "    \n",
    "# # Перезаписываю класс История курения на 3 класса\n",
    "# temp_data['smoking_history'] = temp_data['smoking_history'].apply(rewrite_class)"
   ]
  },
  {
   "cell_type": "code",
   "execution_count": 191,
   "metadata": {},
   "outputs": [
    {
     "data": {
      "text/plain": [
       "smoking_history\n",
       "never          25010\n",
       "No Info        23957\n",
       "former          6787\n",
       "current         6663\n",
       "not current     4684\n",
       "ever            2899\n",
       "Name: count, dtype: int64"
      ]
     },
     "execution_count": 191,
     "metadata": {},
     "output_type": "execute_result"
    }
   ],
   "source": [
    "# Баланс между классами\n",
    "temp_data['smoking_history'].value_counts()"
   ]
  },
  {
   "cell_type": "code",
   "execution_count": 192,
   "metadata": {},
   "outputs": [],
   "source": [
    "# no_info_temp_data = temp_data[temp_data['smoking_history'] == \"No Info\"] # нет инфо"
   ]
  },
  {
   "cell_type": "code",
   "execution_count": 193,
   "metadata": {},
   "outputs": [
    {
     "name": "stdout",
     "output_type": "stream",
     "text": [
      "\n",
      "f1-score: 0.5744512033853478\n",
      "precision: 0.42789598108747046\n",
      "recall: 0.8736926790024135\n",
      "confusion matrix: \n",
      "[[11305  1452]\n",
      " [  157  1086]]\n"
     ]
    },
    {
     "name": "stderr",
     "output_type": "stream",
     "text": [
      "c:\\Users\\moona\\Desktop\\диабет\\.venv\\Lib\\site-packages\\sklearn\\linear_model\\_logistic.py:469: ConvergenceWarning: lbfgs failed to converge (status=1):\n",
      "STOP: TOTAL NO. of ITERATIONS REACHED LIMIT.\n",
      "\n",
      "Increase the number of iterations (max_iter) or scale the data as shown in:\n",
      "    https://scikit-learn.org/stable/modules/preprocessing.html\n",
      "Please also refer to the documentation for alternative solver options:\n",
      "    https://scikit-learn.org/stable/modules/linear_model.html#logistic-regression\n",
      "  n_iter_i = _check_optimize_result(\n"
     ]
    }
   ],
   "source": [
    "# Результат после перераспределения на классы в \"smoking_history\"\n",
    "dummies_data = pd.get_dummies(temp_data)\n",
    "dummies_data = dummies_data.drop('gender_Other', axis=1)\n",
    "\n",
    "X = dummies_data.drop('diabetes', axis=1)  # Ваши признаки\n",
    "y = dummies_data['diabetes']   # Ваши целевые переменные\n",
    "\n",
    "# Разделение данных на обучающие и тестовые\n",
    "X_train, X_test, y_train, y_test = train_test_split(X, y, test_size=0.2, random_state=42)\n",
    "\n",
    "# Создаю базывую модель LogisticRegression(), но добавляю class_weight.\n",
    "# Потому что у нас дисбаланс классов.\n",
    "model = LogisticRegression(class_weight='balanced', random_state=42)\n",
    "\n",
    "# Обучаем модель\n",
    "model.fit(X_train, y_train)\n",
    "\n",
    "# Предсказываем X_test\n",
    "y_pred = model.predict(X_test)\n",
    "# Выводим ошибку\n",
    "metrics_print(y_test, y_pred)"
   ]
  },
  {
   "cell_type": "code",
   "execution_count": 194,
   "metadata": {},
   "outputs": [
    {
     "name": "stdout",
     "output_type": "stream",
     "text": [
      "\n",
      "f1-score: 0.41488162344983087\n",
      "precision: 0.2713864306784661\n",
      "recall: 0.8803827751196173\n",
      "confusion matrix: \n",
      "[[4089  494]\n",
      " [  25  184]]\n"
     ]
    }
   ],
   "source": [
    "# # Результат после удаления класса \"no_info\" в \"smoking_history\"\n",
    "# dummies_data = pd.get_dummies(no_info_temp_data)\n",
    "# dummies_data = dummies_data.drop('gender_Other', axis=1)\n",
    "\n",
    "# X = dummies_data.drop('diabetes', axis=1)  # Ваши признаки\n",
    "# y = dummies_data['diabetes']   # Ваши целевые переменные\n",
    "\n",
    "# # Разделение данных на обучающие и тестовые\n",
    "# X_train, X_test, y_train, y_test = train_test_split(X, y, test_size=0.2, random_state=42)\n",
    "\n",
    "# # Создаю базывую модель LogisticRegression(), но добавляю class_weight.\n",
    "# # Потому что у нас дисбаланс классов.\n",
    "# model = LogisticRegression(class_weight='balanced', random_state=42)\n",
    "\n",
    "# # Обучаем модель\n",
    "# model.fit(X_train, y_train)\n",
    "\n",
    "# # Предсказываем X_test\n",
    "# y_pred = model.predict(X_test)\n",
    "# # Выводим ошибку\n",
    "# metrics_print(y_test, y_pred)"
   ]
  },
  {
   "cell_type": "markdown",
   "metadata": {},
   "source": [
    "Результат знизился так что я пока собираюсь оставить все как есть"
   ]
  },
  {
   "cell_type": "markdown",
   "metadata": {},
   "source": [
    "#### 2) Нужно использовать SMOTE только для числовых признаков (SMOTE with num_features)"
   ]
  },
  {
   "cell_type": "code",
   "execution_count": 243,
   "metadata": {},
   "outputs": [
    {
     "data": {
      "text/plain": [
       "diabetes\n",
       "False    63800\n",
       "True      6200\n",
       "Name: count, dtype: int64"
      ]
     },
     "execution_count": 243,
     "metadata": {},
     "output_type": "execute_result"
    }
   ],
   "source": [
    "# Количество в классах Целевой метрики (diabetes)  \n",
    "y.value_counts()"
   ]
  },
  {
   "cell_type": "code",
   "execution_count": 245,
   "metadata": {},
   "outputs": [
    {
     "name": "stdout",
     "output_type": "stream",
     "text": [
      "Train:\n",
      "\n",
      "f1-score: 0.5675516993933069\n",
      "precision: 0.4193983802545314\n",
      "recall: 0.8775469033689731\n",
      "confusion matrix: \n",
      "[[45021  6022]\n",
      " [  607  4350]]\n",
      "\n",
      "Test:\n",
      "\n",
      "f1-score: 0.5660474716202271\n",
      "precision: 0.416635017090771\n",
      "recall: 0.8825422365245374\n",
      "confusion matrix: \n",
      "[[11221  1536]\n",
      " [  146  1097]]\n"
     ]
    }
   ],
   "source": [
    "# Попробуем обучить модель только на числовых признаках (num_features)\n",
    "X_numeric = dummies_data[num_features] # Признаки\n",
    "y = dummies_data['diabetes'] # Целевое переменное\n",
    "\n",
    "# Разделение данных на обучающие и тестовые\n",
    "X_train, X_test, y_train, y_test = train_test_split(X_numeric, y, test_size=0.2, random_state=42)\n",
    "\n",
    "# Создаем модель\n",
    "model = LogisticRegression(class_weight='balanced', random_state=42)\n",
    "\n",
    "# Обучаем модель\n",
    "model.fit(X_train, y_train)\n",
    "\n",
    "# Предсказываем X_test и X_train\n",
    "y_pred = model.predict(X_test)\n",
    "y_train_pred = model.predict(X_train)\n",
    "\n",
    "# Выводим ошибку на train и на test\n",
    "print(\"Train:\")\n",
    "metrics_print(y_train, y_train_pred)\n",
    "print(\"\\nTest:\")\n",
    "metrics_print(y_test, y_pred)"
   ]
  },
  {
   "cell_type": "markdown",
   "metadata": {},
   "source": [
    "Результат знизился конечно, но не так сильно как я себе представлял. Теперь попробуем использовать SMOTE только на числовых признаков."
   ]
  },
  {
   "cell_type": "markdown",
   "metadata": {},
   "source": [
    "**SMOTE** (Synthetic Minority Oversampling Technique) - это метод подготовки **несбалансированного** датасета к загрузке в модель машинного обучения, предполагающий не просто дублировать, а создать новые, синтетические примеры, чтобы улучшить представление меньшинств и сбалансировать данные.\n",
    "\n",
    "SMOTE использует очень простой подход:\n",
    "\n",
    "<div style=\"text-align: center;\\\">\n",
    "    <img src=\"https://miro.medium.com/v2/resize:fit:828/format:webp/1*n8cNY6_B6FYP7ktbNEnR5Q.png\" width=\"500\" height=\"400\">\n",
    "</div>\n",
    "\n",
    "1. Случайным образом выберите выборку, назовем ее O (для Origin), из класса меньшинств.\n",
    "2. Найдите K ближайших соседей O, которые принадлежат к тому же классу.\n",
    "3. Соедините O с каждым из этих соседей прямой линией\n",
    "4. Случайным образом выберите масштабный коэффициент 'z' в диапазоне [0,1].\n",
    "5. Для каждого нового соединения поместите новую точку на прямой (z*100)% от O. Это будут наши синтетические образцы.\n",
    "6. Повторяйте этот процесс, пока не получите нужное количество синтетических образцов\n",
    "\n",
    "\n",
    "**Важно !!!**\n",
    "\n",
    "Хотя идея генерирования новых синтетических образцов вместо дублирования оригинальных образцов является шагом вперед, у SMOTE есть один главный недостаток. Если точка, выбранная на шаге 1 или 2, находится в области, где доминируют образцы мажоритарного класса, синтетические точки могут быть сгенерированы внутри области мажоритарного класса (**что может затруднить классификацию!**)."
   ]
  },
  {
   "cell_type": "code",
   "execution_count": 246,
   "metadata": {},
   "outputs": [
    {
     "data": {
      "text/plain": [
       "diabetes\n",
       "False    51043\n",
       "True      4957\n",
       "Name: count, dtype: int64"
      ]
     },
     "execution_count": 246,
     "metadata": {},
     "output_type": "execute_result"
    }
   ],
   "source": [
    "# Количество в классах Целевой метрики (diabetes) в y_train\n",
    "y_train.value_counts()"
   ]
  },
  {
   "cell_type": "code",
   "execution_count": 263,
   "metadata": {},
   "outputs": [
    {
     "name": "stdout",
     "output_type": "stream",
     "text": [
      "Test: \n",
      "\n",
      "f1-score: 0.5687548739277359\n",
      "precision: 0.4201228878648233\n",
      "recall: 0.8801287208366855\n",
      "confusion matrix: \n",
      "[[11247  1510]\n",
      " [  149  1094]]\n"
     ]
    }
   ],
   "source": [
    "# Используем SMOTE\n",
    "# SMOTE надо использовать только на X_train\n",
    "X_numeric = dummies_data[num_features] # Признаки\n",
    "y = dummies_data['diabetes'] # Целевое переменное\n",
    "\n",
    "# Разделение данных на обучающие и тестовые\n",
    "X_train, X_test, y_train, y_test = train_test_split(X_numeric, y, test_size=0.2, random_state=42)\n",
    "\n",
    "smote_pre = SMOTE(random_state=42, k_neighbors=3)\n",
    "X_smote, y_smote = smote_pre.fit_resample(X_train, y_train)\n",
    "\n",
    "model = LogisticRegression(random_state=42)\n",
    "\n",
    "# Обучаем модель\n",
    "model.fit(X_smote, y_smote)\n",
    "\n",
    "# Предсказываем X_test\n",
    "y_pred = model.predict(X_test)\n",
    "# Выводим ошибку\n",
    "print('Test: ')\n",
    "metrics_print(y_test, y_pred)"
   ]
  },
  {
   "cell_type": "markdown",
   "metadata": {},
   "source": [
    "Есть улучшение на 0,02 на тесте. Нужно попробывать с более сложными моделями чтобы понять что лучше."
   ]
  },
  {
   "cell_type": "code",
   "execution_count": 258,
   "metadata": {},
   "outputs": [
    {
     "data": {
      "text/plain": [
       "diabetes\n",
       "False    51043\n",
       "True     51043\n",
       "Name: count, dtype: int64"
      ]
     },
     "execution_count": 258,
     "metadata": {},
     "output_type": "execute_result"
    }
   ],
   "source": [
    "# Количество в классах Целевой метрики (diabetes) в y_train после SMOTE\n",
    "y_smote.value_counts()"
   ]
  },
  {
   "cell_type": "markdown",
   "metadata": {},
   "source": [
    "#### 3) Попробывать на более сложной модели и сравнить модели (XGBOOST and RandomForest)"
   ]
  },
  {
   "cell_type": "code",
   "execution_count": 236,
   "metadata": {},
   "outputs": [
    {
     "name": "stdout",
     "output_type": "stream",
     "text": [
      "[LightGBM] [Warning] Found whitespace in feature_names, replace with underlines\n",
      "[LightGBM] [Info] Number of positive: 4957, number of negative: 51043\n",
      "[LightGBM] [Info] Auto-choosing row-wise multi-threading, the overhead of testing was 0.002569 seconds.\n",
      "You can set `force_row_wise=true` to remove the overhead.\n",
      "And if memory is not enough, you can set `force_col_wise=true`.\n",
      "[LightGBM] [Info] Total Bins 413\n",
      "[LightGBM] [Info] Number of data points in the train set: 56000, number of used features: 14\n",
      "[LightGBM] [Info] [binary:BoostFromScore]: pavg=0.500000 -> initscore=-0.000000\n",
      "[LightGBM] [Info] Start training from score -0.000000\n",
      "\n",
      "f1-score: 0.6626802673232501\n",
      "precision: 0.508749189889825\n",
      "recall: 0.9501714746822675\n",
      "confusion matrix: \n",
      "[[46495  4548]\n",
      " [  247  4710]]\n",
      "\n",
      "f1-score: 0.6298157453936348\n",
      "precision: 0.48225737494655835\n",
      "recall: 0.9074818986323411\n",
      "confusion matrix: \n",
      "[[11546  1211]\n",
      " [  115  1128]]\n"
     ]
    }
   ],
   "source": [
    "dummies_data = pd.get_dummies(temp_data)\n",
    "dummies_data = dummies_data.drop('gender_Other', axis=1)\n",
    "\n",
    "X = dummies_data.drop('diabetes', axis=1)  # Ваши признаки\n",
    "y = dummies_data['diabetes']   # Ваши целевые переменные\n",
    "\n",
    "# Разделение данных на обучающие и тестовые\n",
    "X_train, X_test, y_train, y_test = train_test_split(X, y, test_size=0.2, random_state=42)\n",
    "\n",
    "lgb_model = lgb.LGBMClassifier(n_jobs=-1, class_weight='balanced', random_state=42, boosting_type='dart', \n",
    "                               learning_rate=0.1, n_estimators=200, reg_lambda=0.1)\n",
    "\n",
    "lgb_model.fit(X_train, y_train)\n",
    "\n",
    "y_pred = lgb_model.predict(X_test)\n",
    "y_train_pred = lgb_model.predict(X_train)\n",
    "\n",
    "metrics_print(y_train, y_train_pred)\n",
    "metrics_print(y_test, y_pred)"
   ]
  },
  {
   "cell_type": "markdown",
   "metadata": {},
   "source": [
    "LightGBM + SMOTE data"
   ]
  },
  {
   "cell_type": "code",
   "execution_count": 237,
   "metadata": {},
   "outputs": [
    {
     "name": "stdout",
     "output_type": "stream",
     "text": [
      "[LightGBM] [Warning] Found whitespace in feature_names, replace with underlines\n",
      "[LightGBM] [Info] Number of positive: 51043, number of negative: 51043\n",
      "[LightGBM] [Info] Auto-choosing row-wise multi-threading, the overhead of testing was 0.010050 seconds.\n",
      "You can set `force_row_wise=true` to remove the overhead.\n",
      "And if memory is not enough, you can set `force_col_wise=true`.\n",
      "[LightGBM] [Info] Total Bins 1040\n",
      "[LightGBM] [Info] Number of data points in the train set: 102086, number of used features: 14\n",
      "[LightGBM] [Info] [binary:BoostFromScore]: pavg=0.500000 -> initscore=0.000000\n",
      "\n",
      "f1-score: 0.8021152829190904\n",
      "precision: 0.8430413517118719\n",
      "recall: 0.764978817833367\n",
      "confusion matrix: \n",
      "[[50337   706]\n",
      " [ 1165  3792]]\n",
      "\n",
      "f1-score: 0.7821276595744681\n",
      "precision: 0.8301716350496838\n",
      "recall: 0.7393403057119872\n",
      "confusion matrix: \n",
      "[[12569   188]\n",
      " [  324   919]]\n"
     ]
    }
   ],
   "source": [
    "# use SMOTE + all features\n",
    "smote_pre = SMOTE(random_state=42)\n",
    "X_smote, y_smote = smote_pre.fit_resample(X_train, y_train)\n",
    "\n",
    "lgb_model = lgb.LGBMClassifier(n_jobs=-1, random_state=42, boosting_type='dart', \n",
    "                               learning_rate=0.1, n_estimators=200, reg_lambda=0.1)\n",
    "\n",
    "lgb_model.fit(X_smote, y_smote)\n",
    "\n",
    "y_pred = lgb_model.predict(X_test)\n",
    "y_train_pred = lgb_model.predict(X_train)\n",
    "\n",
    "metrics_print(y_train, y_train_pred)\n",
    "metrics_print(y_test, y_pred)"
   ]
  },
  {
   "cell_type": "code",
   "execution_count": 238,
   "metadata": {},
   "outputs": [
    {
     "name": "stdout",
     "output_type": "stream",
     "text": [
      "[LightGBM] [Info] Number of positive: 51043, number of negative: 51043\n",
      "[LightGBM] [Info] Auto-choosing col-wise multi-threading, the overhead of testing was 0.002767 seconds.\n",
      "You can set `force_col_wise=true` to remove the overhead.\n",
      "[LightGBM] [Info] Total Bins 1020\n",
      "[LightGBM] [Info] Number of data points in the train set: 102086, number of used features: 4\n",
      "[LightGBM] [Info] [binary:BoostFromScore]: pavg=0.500000 -> initscore=0.000000\n",
      "\n",
      "f1-score: 0.7518153044125861\n",
      "precision: 0.6980121002592913\n",
      "recall: 0.8146056082307848\n",
      "confusion matrix: \n",
      "[[49296  1747]\n",
      " [  919  4038]]\n",
      "\n",
      "f1-score: 0.7176252319109462\n",
      "precision: 0.6659779614325069\n",
      "recall: 0.7779565567176187\n",
      "confusion matrix: \n",
      "[[12272   485]\n",
      " [  276   967]]\n"
     ]
    }
   ],
   "source": [
    "# use SMOTE\n",
    "X_numeric = dummies_data[num_features]\n",
    "y = dummies_data['diabetes']\n",
    "\n",
    "X_train, X_test, y_train, y_test = train_test_split(X_numeric, y, test_size=0.2, random_state=42)\n",
    "\n",
    "smote_pre = SMOTE(random_state=42)\n",
    "X_smote, y_smote = smote_pre.fit_resample(X_train, y_train)\n",
    "\n",
    "lgb_model = lgb.LGBMClassifier(n_jobs=-1, random_state=42, boosting_type='dart', \n",
    "                               learning_rate=0.1, n_estimators=200, reg_lambda=0.1)\n",
    "\n",
    "lgb_model.fit(X_smote, y_smote)\n",
    "\n",
    "y_pred = lgb_model.predict(X_test)\n",
    "y_train_pred = lgb_model.predict(X_train)\n",
    "\n",
    "metrics_print(y_train, y_train_pred)\n",
    "metrics_print(y_test, y_pred)"
   ]
  },
  {
   "cell_type": "markdown",
   "metadata": {},
   "source": [
    "RandomForest"
   ]
  },
  {
   "cell_type": "code",
   "execution_count": 239,
   "metadata": {},
   "outputs": [
    {
     "name": "stdout",
     "output_type": "stream",
     "text": [
      "\n",
      "f1-score: 0.9967826261813795\n",
      "precision: 0.9935858889557025\n",
      "recall: 1.0\n",
      "confusion matrix: \n",
      "[[51011    32]\n",
      " [    0  4957]]\n",
      "\n",
      "f1-score: 0.7867924528301887\n",
      "precision: 0.95096921322691\n",
      "recall: 0.670957361222848\n",
      "confusion matrix: \n",
      "[[12714    43]\n",
      " [  409   834]]\n"
     ]
    }
   ],
   "source": [
    "dummies_data = pd.get_dummies(temp_data)\n",
    "dummies_data = dummies_data.drop('gender_Other', axis=1)\n",
    "\n",
    "X = dummies_data.drop('diabetes', axis=1)  # Ваши признаки\n",
    "y = dummies_data['diabetes']   # Ваши целевые переменные\n",
    "\n",
    "# Разделение данных на обучающие и тестовые\n",
    "X_train, X_test, y_train, y_test = train_test_split(X, y, test_size=0.2, random_state=42)\n",
    "\n",
    "rf_model = RandomForestClassifier(n_jobs=-1, class_weight='balanced', random_state=42, n_estimators=200,\n",
    "                                  max_features='sqrt')\n",
    "\n",
    "rf_model.fit(X_train, y_train)\n",
    "\n",
    "y_pred = rf_model.predict(X_test)\n",
    "y_train_pred = rf_model.predict(X_train)\n",
    "\n",
    "metrics_print(y_train, y_train_pred)\n",
    "metrics_print(y_test, y_pred)"
   ]
  },
  {
   "cell_type": "code",
   "execution_count": 240,
   "metadata": {},
   "outputs": [
    {
     "name": "stdout",
     "output_type": "stream",
     "text": [
      "\n",
      "f1-score: 0.9793384223918575\n",
      "precision: 0.988290879211175\n",
      "recall: 0.9705467016340529\n",
      "confusion matrix: \n",
      "[[50986    57]\n",
      " [  146  4811]]\n",
      "\n",
      "f1-score: 0.7268351383874849\n",
      "precision: 0.7248\n",
      "recall: 0.7288817377312953\n",
      "confusion matrix: \n",
      "[[12413   344]\n",
      " [  337   906]]\n"
     ]
    }
   ],
   "source": [
    "# use SMOTE\n",
    "X_numeric = dummies_data[num_features]\n",
    "y = dummies_data['diabetes']\n",
    "\n",
    "X_train, X_test, y_train, y_test = train_test_split(X_numeric, y, test_size=0.2, random_state=42)\n",
    "\n",
    "smote_pre = SMOTE(random_state=42)\n",
    "X_smote, y_smote = smote_pre.fit_resample(X_train, y_train)\n",
    "\n",
    "rf_model = RandomForestClassifier(n_jobs=-1, random_state=42, n_estimators=200,\n",
    "                                  max_features='sqrt')\n",
    "\n",
    "rf_model.fit(X_smote, y_smote)\n",
    "\n",
    "y_pred = rf_model.predict(X_test)\n",
    "y_train_pred = rf_model.predict(X_train)\n",
    "\n",
    "metrics_print(y_train, y_train_pred)\n",
    "metrics_print(y_test, y_pred)"
   ]
  },
  {
   "cell_type": "code",
   "execution_count": 241,
   "metadata": {},
   "outputs": [
    {
     "name": "stdout",
     "output_type": "stream",
     "text": [
      "\n",
      "f1-score: 0.9967689822294022\n",
      "precision: 0.9977764301596928\n",
      "recall: 0.9957635666733912\n",
      "confusion matrix: \n",
      "[[51032    11]\n",
      " [   21  4936]]\n",
      "\n",
      "f1-score: 0.7486889874949576\n",
      "precision: 0.7508090614886731\n",
      "recall: 0.7465808527755431\n",
      "confusion matrix: \n",
      "[[12449   308]\n",
      " [  315   928]]\n"
     ]
    }
   ],
   "source": [
    "dummies_data = pd.get_dummies(temp_data)\n",
    "dummies_data = dummies_data.drop('gender_Other', axis=1)\n",
    "\n",
    "X = dummies_data.drop('diabetes', axis=1)  # Ваши признаки\n",
    "y = dummies_data['diabetes']   # Ваши целевые переменные\n",
    "\n",
    "# Разделение данных на обучающие и тестовые\n",
    "X_train, X_test, y_train, y_test = train_test_split(X, y, test_size=0.2, random_state=42)\n",
    "\n",
    "smote_pre = SMOTE(random_state=42)\n",
    "X_smote, y_smote = smote_pre.fit_resample(X_train, y_train)\n",
    "\n",
    "rf_model = RandomForestClassifier(n_jobs=-1, random_state=42, n_estimators=200,\n",
    "                                  max_features='sqrt')\n",
    "\n",
    "rf_model.fit(X_smote, y_smote)\n",
    "\n",
    "y_pred = rf_model.predict(X_test)\n",
    "y_train_pred = rf_model.predict(X_train)\n",
    "\n",
    "metrics_print(y_train, y_train_pred)\n",
    "metrics_print(y_test, y_pred)"
   ]
  },
  {
   "cell_type": "code",
   "execution_count": null,
   "metadata": {},
   "outputs": [],
   "source": []
  }
 ],
 "metadata": {
  "kernelspec": {
   "display_name": "Python 3",
   "language": "python",
   "name": "python3"
  },
  "language_info": {
   "codemirror_mode": {
    "name": "ipython",
    "version": 3
   },
   "file_extension": ".py",
   "mimetype": "text/x-python",
   "name": "python",
   "nbconvert_exporter": "python",
   "pygments_lexer": "ipython3",
   "version": "3.12.2"
  }
 },
 "nbformat": 4,
 "nbformat_minor": 2
}
